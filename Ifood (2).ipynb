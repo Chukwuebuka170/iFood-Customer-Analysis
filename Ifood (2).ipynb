{
 "cells": [
  {
   "cell_type": "markdown",
   "id": "f37f05bb-d6a4-4196-a21e-6da87df98c6c",
   "metadata": {},
   "source": [
    "# Project Title: iFood Customer Analysis"
   ]
  },
  {
   "cell_type": "markdown",
   "id": "fe0cdd69-3f13-4455-ac19-b71ae089eea2",
   "metadata": {},
   "source": [
    "# Objectives:"
   ]
  },
  {
   "cell_type": "markdown",
   "id": "67a679df-c326-4fbf-8080-dd3d1e78bc3a",
   "metadata": {},
   "source": [
    "1) Which income groups spend the most on premium vs regular products?\n",
    "\n",
    "2) How does family composition (kids/teens) affect product spending patterns?\n",
    "\n",
    "3) Can we identify customer segments based on spending habits across product categories?\n",
    "\n",
    "4) Which demographic groups are more likely to respond to campaigns?\n",
    "\n",
    "5) What is the relationship between recency and total spending?\n",
    "\n",
    "6) Which channels  are more successful in campaign acceptance?\n",
    "\n",
    "7) Which product categories have the highest average spend per income bracket?\n",
    "\n",
    "8) Is there a relationship between education level and category-specific product preferences?\n",
    "\n",
    "9) Who are the top 10% customers by lifetime value (total spend), and what do they have in common?\n",
    "\n",
    "10) What factors most influence high spending on premium products (e.g., MntGoldProds)?"
   ]
  },
  {
   "cell_type": "markdown",
   "id": "12cc5ed6-52c9-4c00-a503-d9a80b0ead06",
   "metadata": {},
   "source": [
    "# Importing the libries "
   ]
  },
  {
   "cell_type": "code",
   "execution_count": 1,
   "id": "99f412c1-0d6e-4554-97aa-9bbb461c6e34",
   "metadata": {},
   "outputs": [],
   "source": [
    "import pandas as pd\n",
    "import numpy as np\n",
    "import matplotlib.pyplot as plt\n",
    "import seaborn as sns"
   ]
  },
  {
   "cell_type": "markdown",
   "id": "def766cd-48d5-4708-baaa-30941260bb22",
   "metadata": {},
   "source": [
    "# Importing of the Datasets"
   ]
  },
  {
   "cell_type": "code",
   "execution_count": 2,
   "id": "041d7091-f469-4088-a09c-6e035b4714d1",
   "metadata": {},
   "outputs": [
    {
     "data": {
      "text/html": [
       "<div>\n",
       "<style scoped>\n",
       "    .dataframe tbody tr th:only-of-type {\n",
       "        vertical-align: middle;\n",
       "    }\n",
       "\n",
       "    .dataframe tbody tr th {\n",
       "        vertical-align: top;\n",
       "    }\n",
       "\n",
       "    .dataframe thead th {\n",
       "        text-align: right;\n",
       "    }\n",
       "</style>\n",
       "<table border=\"1\" class=\"dataframe\">\n",
       "  <thead>\n",
       "    <tr style=\"text-align: right;\">\n",
       "      <th></th>\n",
       "      <th>Income</th>\n",
       "      <th>Kidhome</th>\n",
       "      <th>Teenhome</th>\n",
       "      <th>Recency</th>\n",
       "      <th>MntWines</th>\n",
       "      <th>MntFruits</th>\n",
       "      <th>MntMeatProducts</th>\n",
       "      <th>MntFishProducts</th>\n",
       "      <th>MntSweetProducts</th>\n",
       "      <th>MntGoldProds</th>\n",
       "      <th>...</th>\n",
       "      <th>marital_Together</th>\n",
       "      <th>marital_Widow</th>\n",
       "      <th>education_2n Cycle</th>\n",
       "      <th>education_Basic</th>\n",
       "      <th>education_Graduation</th>\n",
       "      <th>education_Master</th>\n",
       "      <th>education_PhD</th>\n",
       "      <th>MntTotal</th>\n",
       "      <th>MntRegularProds</th>\n",
       "      <th>AcceptedCmpOverall</th>\n",
       "    </tr>\n",
       "  </thead>\n",
       "  <tbody>\n",
       "    <tr>\n",
       "      <th>0</th>\n",
       "      <td>58138</td>\n",
       "      <td>0</td>\n",
       "      <td>0</td>\n",
       "      <td>58</td>\n",
       "      <td>635</td>\n",
       "      <td>88</td>\n",
       "      <td>546</td>\n",
       "      <td>172</td>\n",
       "      <td>88</td>\n",
       "      <td>88</td>\n",
       "      <td>...</td>\n",
       "      <td>0</td>\n",
       "      <td>0</td>\n",
       "      <td>0</td>\n",
       "      <td>0</td>\n",
       "      <td>1</td>\n",
       "      <td>0</td>\n",
       "      <td>0</td>\n",
       "      <td>1529</td>\n",
       "      <td>1441</td>\n",
       "      <td>0</td>\n",
       "    </tr>\n",
       "    <tr>\n",
       "      <th>1</th>\n",
       "      <td>46344</td>\n",
       "      <td>1</td>\n",
       "      <td>1</td>\n",
       "      <td>38</td>\n",
       "      <td>11</td>\n",
       "      <td>1</td>\n",
       "      <td>6</td>\n",
       "      <td>2</td>\n",
       "      <td>1</td>\n",
       "      <td>6</td>\n",
       "      <td>...</td>\n",
       "      <td>0</td>\n",
       "      <td>0</td>\n",
       "      <td>0</td>\n",
       "      <td>0</td>\n",
       "      <td>1</td>\n",
       "      <td>0</td>\n",
       "      <td>0</td>\n",
       "      <td>21</td>\n",
       "      <td>15</td>\n",
       "      <td>0</td>\n",
       "    </tr>\n",
       "    <tr>\n",
       "      <th>2</th>\n",
       "      <td>71613</td>\n",
       "      <td>0</td>\n",
       "      <td>0</td>\n",
       "      <td>26</td>\n",
       "      <td>426</td>\n",
       "      <td>49</td>\n",
       "      <td>127</td>\n",
       "      <td>111</td>\n",
       "      <td>21</td>\n",
       "      <td>42</td>\n",
       "      <td>...</td>\n",
       "      <td>1</td>\n",
       "      <td>0</td>\n",
       "      <td>0</td>\n",
       "      <td>0</td>\n",
       "      <td>1</td>\n",
       "      <td>0</td>\n",
       "      <td>0</td>\n",
       "      <td>734</td>\n",
       "      <td>692</td>\n",
       "      <td>0</td>\n",
       "    </tr>\n",
       "    <tr>\n",
       "      <th>3</th>\n",
       "      <td>26646</td>\n",
       "      <td>1</td>\n",
       "      <td>0</td>\n",
       "      <td>26</td>\n",
       "      <td>11</td>\n",
       "      <td>4</td>\n",
       "      <td>20</td>\n",
       "      <td>10</td>\n",
       "      <td>3</td>\n",
       "      <td>5</td>\n",
       "      <td>...</td>\n",
       "      <td>1</td>\n",
       "      <td>0</td>\n",
       "      <td>0</td>\n",
       "      <td>0</td>\n",
       "      <td>1</td>\n",
       "      <td>0</td>\n",
       "      <td>0</td>\n",
       "      <td>48</td>\n",
       "      <td>43</td>\n",
       "      <td>0</td>\n",
       "    </tr>\n",
       "    <tr>\n",
       "      <th>4</th>\n",
       "      <td>58293</td>\n",
       "      <td>1</td>\n",
       "      <td>0</td>\n",
       "      <td>94</td>\n",
       "      <td>173</td>\n",
       "      <td>43</td>\n",
       "      <td>118</td>\n",
       "      <td>46</td>\n",
       "      <td>27</td>\n",
       "      <td>15</td>\n",
       "      <td>...</td>\n",
       "      <td>0</td>\n",
       "      <td>0</td>\n",
       "      <td>0</td>\n",
       "      <td>0</td>\n",
       "      <td>0</td>\n",
       "      <td>0</td>\n",
       "      <td>1</td>\n",
       "      <td>407</td>\n",
       "      <td>392</td>\n",
       "      <td>0</td>\n",
       "    </tr>\n",
       "    <tr>\n",
       "      <th>...</th>\n",
       "      <td>...</td>\n",
       "      <td>...</td>\n",
       "      <td>...</td>\n",
       "      <td>...</td>\n",
       "      <td>...</td>\n",
       "      <td>...</td>\n",
       "      <td>...</td>\n",
       "      <td>...</td>\n",
       "      <td>...</td>\n",
       "      <td>...</td>\n",
       "      <td>...</td>\n",
       "      <td>...</td>\n",
       "      <td>...</td>\n",
       "      <td>...</td>\n",
       "      <td>...</td>\n",
       "      <td>...</td>\n",
       "      <td>...</td>\n",
       "      <td>...</td>\n",
       "      <td>...</td>\n",
       "      <td>...</td>\n",
       "      <td>...</td>\n",
       "    </tr>\n",
       "    <tr>\n",
       "      <th>2200</th>\n",
       "      <td>61223</td>\n",
       "      <td>0</td>\n",
       "      <td>1</td>\n",
       "      <td>46</td>\n",
       "      <td>709</td>\n",
       "      <td>43</td>\n",
       "      <td>182</td>\n",
       "      <td>42</td>\n",
       "      <td>118</td>\n",
       "      <td>247</td>\n",
       "      <td>...</td>\n",
       "      <td>0</td>\n",
       "      <td>0</td>\n",
       "      <td>0</td>\n",
       "      <td>0</td>\n",
       "      <td>1</td>\n",
       "      <td>0</td>\n",
       "      <td>0</td>\n",
       "      <td>1094</td>\n",
       "      <td>847</td>\n",
       "      <td>0</td>\n",
       "    </tr>\n",
       "    <tr>\n",
       "      <th>2201</th>\n",
       "      <td>64014</td>\n",
       "      <td>2</td>\n",
       "      <td>1</td>\n",
       "      <td>56</td>\n",
       "      <td>406</td>\n",
       "      <td>0</td>\n",
       "      <td>30</td>\n",
       "      <td>0</td>\n",
       "      <td>0</td>\n",
       "      <td>8</td>\n",
       "      <td>...</td>\n",
       "      <td>1</td>\n",
       "      <td>0</td>\n",
       "      <td>0</td>\n",
       "      <td>0</td>\n",
       "      <td>0</td>\n",
       "      <td>0</td>\n",
       "      <td>1</td>\n",
       "      <td>436</td>\n",
       "      <td>428</td>\n",
       "      <td>1</td>\n",
       "    </tr>\n",
       "    <tr>\n",
       "      <th>2202</th>\n",
       "      <td>56981</td>\n",
       "      <td>0</td>\n",
       "      <td>0</td>\n",
       "      <td>91</td>\n",
       "      <td>908</td>\n",
       "      <td>48</td>\n",
       "      <td>217</td>\n",
       "      <td>32</td>\n",
       "      <td>12</td>\n",
       "      <td>24</td>\n",
       "      <td>...</td>\n",
       "      <td>0</td>\n",
       "      <td>0</td>\n",
       "      <td>0</td>\n",
       "      <td>0</td>\n",
       "      <td>1</td>\n",
       "      <td>0</td>\n",
       "      <td>0</td>\n",
       "      <td>1217</td>\n",
       "      <td>1193</td>\n",
       "      <td>1</td>\n",
       "    </tr>\n",
       "    <tr>\n",
       "      <th>2203</th>\n",
       "      <td>69245</td>\n",
       "      <td>0</td>\n",
       "      <td>1</td>\n",
       "      <td>8</td>\n",
       "      <td>428</td>\n",
       "      <td>30</td>\n",
       "      <td>214</td>\n",
       "      <td>80</td>\n",
       "      <td>30</td>\n",
       "      <td>61</td>\n",
       "      <td>...</td>\n",
       "      <td>1</td>\n",
       "      <td>0</td>\n",
       "      <td>0</td>\n",
       "      <td>0</td>\n",
       "      <td>0</td>\n",
       "      <td>1</td>\n",
       "      <td>0</td>\n",
       "      <td>782</td>\n",
       "      <td>721</td>\n",
       "      <td>0</td>\n",
       "    </tr>\n",
       "    <tr>\n",
       "      <th>2204</th>\n",
       "      <td>52869</td>\n",
       "      <td>1</td>\n",
       "      <td>1</td>\n",
       "      <td>40</td>\n",
       "      <td>84</td>\n",
       "      <td>3</td>\n",
       "      <td>61</td>\n",
       "      <td>2</td>\n",
       "      <td>1</td>\n",
       "      <td>21</td>\n",
       "      <td>...</td>\n",
       "      <td>0</td>\n",
       "      <td>0</td>\n",
       "      <td>0</td>\n",
       "      <td>0</td>\n",
       "      <td>0</td>\n",
       "      <td>0</td>\n",
       "      <td>1</td>\n",
       "      <td>151</td>\n",
       "      <td>130</td>\n",
       "      <td>0</td>\n",
       "    </tr>\n",
       "  </tbody>\n",
       "</table>\n",
       "<p>2205 rows × 39 columns</p>\n",
       "</div>"
      ],
      "text/plain": [
       "      Income  Kidhome  Teenhome  Recency  MntWines  MntFruits  \\\n",
       "0      58138        0         0       58       635         88   \n",
       "1      46344        1         1       38        11          1   \n",
       "2      71613        0         0       26       426         49   \n",
       "3      26646        1         0       26        11          4   \n",
       "4      58293        1         0       94       173         43   \n",
       "...      ...      ...       ...      ...       ...        ...   \n",
       "2200   61223        0         1       46       709         43   \n",
       "2201   64014        2         1       56       406          0   \n",
       "2202   56981        0         0       91       908         48   \n",
       "2203   69245        0         1        8       428         30   \n",
       "2204   52869        1         1       40        84          3   \n",
       "\n",
       "      MntMeatProducts  MntFishProducts  MntSweetProducts  MntGoldProds  ...  \\\n",
       "0                 546              172                88            88  ...   \n",
       "1                   6                2                 1             6  ...   \n",
       "2                 127              111                21            42  ...   \n",
       "3                  20               10                 3             5  ...   \n",
       "4                 118               46                27            15  ...   \n",
       "...               ...              ...               ...           ...  ...   \n",
       "2200              182               42               118           247  ...   \n",
       "2201               30                0                 0             8  ...   \n",
       "2202              217               32                12            24  ...   \n",
       "2203              214               80                30            61  ...   \n",
       "2204               61                2                 1            21  ...   \n",
       "\n",
       "      marital_Together  marital_Widow  education_2n Cycle  education_Basic  \\\n",
       "0                    0              0                   0                0   \n",
       "1                    0              0                   0                0   \n",
       "2                    1              0                   0                0   \n",
       "3                    1              0                   0                0   \n",
       "4                    0              0                   0                0   \n",
       "...                ...            ...                 ...              ...   \n",
       "2200                 0              0                   0                0   \n",
       "2201                 1              0                   0                0   \n",
       "2202                 0              0                   0                0   \n",
       "2203                 1              0                   0                0   \n",
       "2204                 0              0                   0                0   \n",
       "\n",
       "      education_Graduation  education_Master  education_PhD  MntTotal  \\\n",
       "0                        1                 0              0      1529   \n",
       "1                        1                 0              0        21   \n",
       "2                        1                 0              0       734   \n",
       "3                        1                 0              0        48   \n",
       "4                        0                 0              1       407   \n",
       "...                    ...               ...            ...       ...   \n",
       "2200                     1                 0              0      1094   \n",
       "2201                     0                 0              1       436   \n",
       "2202                     1                 0              0      1217   \n",
       "2203                     0                 1              0       782   \n",
       "2204                     0                 0              1       151   \n",
       "\n",
       "      MntRegularProds  AcceptedCmpOverall  \n",
       "0                1441                   0  \n",
       "1                  15                   0  \n",
       "2                 692                   0  \n",
       "3                  43                   0  \n",
       "4                 392                   0  \n",
       "...               ...                 ...  \n",
       "2200              847                   0  \n",
       "2201              428                   1  \n",
       "2202             1193                   1  \n",
       "2203              721                   0  \n",
       "2204              130                   0  \n",
       "\n",
       "[2205 rows x 39 columns]"
      ]
     },
     "execution_count": 2,
     "metadata": {},
     "output_type": "execute_result"
    }
   ],
   "source": [
    "df = pd .read_excel(\"C:/Users/Oceande/Ifood.xlsx\")\n",
    "df"
   ]
  },
  {
   "cell_type": "markdown",
   "id": "2934dc7e-2f0f-4709-9751-ea525c9bcd0f",
   "metadata": {},
   "source": [
    "# DATASET DESCRIPTIONS"
   ]
  },
  {
   "cell_type": "markdown",
   "id": "b44f5e9b-9a11-4bec-931e-86c218b27c52",
   "metadata": {},
   "source": [
    "## Feature | Description\n",
    "\n",
    "AcceptedCmp1 – 1 if customer accepted the offer in the 1st campaign, 0 otherwise\n",
    "\n",
    "AcceptedCmp2 – 1 if customer accepted the offer in the 2nd campaign, 0 otherwise\n",
    "\n",
    "AcceptedCmp3 – 1 if customer accepted the offer in the 3rd campaign, 0 otherwise\n",
    "\n",
    "AcceptedCmp4 – 1 if customer accepted the offer in the 4th campaign, 0 otherwise\n",
    "\n",
    "AcceptedCmp5 – 1 if customer accepted the offer in the 5th campaign, 0 otherwise\n",
    "\n",
    "Response (target) – 1 if customer accepted the offer in the last campaign, 0 otherwise\n",
    "\n",
    "Complain – 1 if customer complained in the last 2 years\n",
    "\n",
    "DtCustomer – date of customer’s enrollment with the company\n",
    "\n",
    "Education – customer’s level of education\n",
    "\n",
    "Marital – customer’s marital status\n",
    "\n",
    "Kidhome – number of small children in customer’s household\n",
    "\n",
    "Teenhome – number of teenagers in customer’s household\n",
    "\n",
    "Income – customer’s yearly household income\n",
    "\n",
    "MntFishProducts – amount spent on fish products in the last 2 years\n",
    "\n",
    "MntMeatProducts – amount spent on meat products in the last 2 years\n",
    "\n",
    "MntFruits – amount spent on fruits in the last 2 years\n",
    "\n",
    "MntSweetProducts – amount spent on sweet products in the last 2 years\n",
    "\n",
    "MntWines – amount spent on wines in the last 2 years\n",
    "\n",
    "MntGoldProds – amount spent on gold products in the last 2 years\n",
    "\n",
    "NumDealsPurchases – number of purchases made with discount\n",
    "\n",
    "NumCatalogPurchases – number of purchases made using catalogue\n",
    "\n",
    "NumStorePurchases – number of purchases made directly in stores\n",
    "\n",
    "NumWebPurchases – number of purchases made through company’s website\n",
    "\n",
    "NumWebVisitsMonth – number of visits to company’s website in the last month\n",
    "\n",
    "Recency – number of days since the last purchase"
   ]
  },
  {
   "cell_type": "markdown",
   "id": "19a7c280-81a5-434c-b117-0b13f3e28f18",
   "metadata": {},
   "source": [
    "# Summarizing the Dataet"
   ]
  },
  {
   "cell_type": "code",
   "execution_count": 3,
   "id": "755bace4-91b5-4f9d-8989-a5cd842c348e",
   "metadata": {},
   "outputs": [
    {
     "data": {
      "text/html": [
       "<div>\n",
       "<style scoped>\n",
       "    .dataframe tbody tr th:only-of-type {\n",
       "        vertical-align: middle;\n",
       "    }\n",
       "\n",
       "    .dataframe tbody tr th {\n",
       "        vertical-align: top;\n",
       "    }\n",
       "\n",
       "    .dataframe thead th {\n",
       "        text-align: right;\n",
       "    }\n",
       "</style>\n",
       "<table border=\"1\" class=\"dataframe\">\n",
       "  <thead>\n",
       "    <tr style=\"text-align: right;\">\n",
       "      <th></th>\n",
       "      <th>Income</th>\n",
       "      <th>Kidhome</th>\n",
       "      <th>Teenhome</th>\n",
       "      <th>Recency</th>\n",
       "      <th>MntWines</th>\n",
       "      <th>MntFruits</th>\n",
       "      <th>MntMeatProducts</th>\n",
       "      <th>MntFishProducts</th>\n",
       "      <th>MntSweetProducts</th>\n",
       "      <th>MntGoldProds</th>\n",
       "      <th>...</th>\n",
       "      <th>marital_Together</th>\n",
       "      <th>marital_Widow</th>\n",
       "      <th>education_2n Cycle</th>\n",
       "      <th>education_Basic</th>\n",
       "      <th>education_Graduation</th>\n",
       "      <th>education_Master</th>\n",
       "      <th>education_PhD</th>\n",
       "      <th>MntTotal</th>\n",
       "      <th>MntRegularProds</th>\n",
       "      <th>AcceptedCmpOverall</th>\n",
       "    </tr>\n",
       "  </thead>\n",
       "  <tbody>\n",
       "    <tr>\n",
       "      <th>count</th>\n",
       "      <td>2205.000000</td>\n",
       "      <td>2205.000000</td>\n",
       "      <td>2205.000000</td>\n",
       "      <td>2205.000000</td>\n",
       "      <td>2205.000000</td>\n",
       "      <td>2205.000000</td>\n",
       "      <td>2205.000000</td>\n",
       "      <td>2205.000000</td>\n",
       "      <td>2205.000000</td>\n",
       "      <td>2205.000000</td>\n",
       "      <td>...</td>\n",
       "      <td>2205.000000</td>\n",
       "      <td>2205.000000</td>\n",
       "      <td>2205.000000</td>\n",
       "      <td>2205.000000</td>\n",
       "      <td>2205.000000</td>\n",
       "      <td>2205.000000</td>\n",
       "      <td>2205.000000</td>\n",
       "      <td>2205.000000</td>\n",
       "      <td>2205.000000</td>\n",
       "      <td>2205.00000</td>\n",
       "    </tr>\n",
       "    <tr>\n",
       "      <th>mean</th>\n",
       "      <td>51622.094785</td>\n",
       "      <td>0.442177</td>\n",
       "      <td>0.506576</td>\n",
       "      <td>49.009070</td>\n",
       "      <td>306.164626</td>\n",
       "      <td>26.403175</td>\n",
       "      <td>165.312018</td>\n",
       "      <td>37.756463</td>\n",
       "      <td>27.128345</td>\n",
       "      <td>44.057143</td>\n",
       "      <td>...</td>\n",
       "      <td>0.257596</td>\n",
       "      <td>0.034467</td>\n",
       "      <td>0.089796</td>\n",
       "      <td>0.024490</td>\n",
       "      <td>0.504762</td>\n",
       "      <td>0.165079</td>\n",
       "      <td>0.215873</td>\n",
       "      <td>562.764626</td>\n",
       "      <td>518.707483</td>\n",
       "      <td>0.29932</td>\n",
       "    </tr>\n",
       "    <tr>\n",
       "      <th>std</th>\n",
       "      <td>20713.063826</td>\n",
       "      <td>0.537132</td>\n",
       "      <td>0.544380</td>\n",
       "      <td>28.932111</td>\n",
       "      <td>337.493839</td>\n",
       "      <td>39.784484</td>\n",
       "      <td>217.784507</td>\n",
       "      <td>54.824635</td>\n",
       "      <td>41.130468</td>\n",
       "      <td>51.736211</td>\n",
       "      <td>...</td>\n",
       "      <td>0.437410</td>\n",
       "      <td>0.182467</td>\n",
       "      <td>0.285954</td>\n",
       "      <td>0.154599</td>\n",
       "      <td>0.500091</td>\n",
       "      <td>0.371336</td>\n",
       "      <td>0.411520</td>\n",
       "      <td>575.936911</td>\n",
       "      <td>553.847248</td>\n",
       "      <td>0.68044</td>\n",
       "    </tr>\n",
       "    <tr>\n",
       "      <th>min</th>\n",
       "      <td>1730.000000</td>\n",
       "      <td>0.000000</td>\n",
       "      <td>0.000000</td>\n",
       "      <td>0.000000</td>\n",
       "      <td>0.000000</td>\n",
       "      <td>0.000000</td>\n",
       "      <td>0.000000</td>\n",
       "      <td>0.000000</td>\n",
       "      <td>0.000000</td>\n",
       "      <td>0.000000</td>\n",
       "      <td>...</td>\n",
       "      <td>0.000000</td>\n",
       "      <td>0.000000</td>\n",
       "      <td>0.000000</td>\n",
       "      <td>0.000000</td>\n",
       "      <td>0.000000</td>\n",
       "      <td>0.000000</td>\n",
       "      <td>0.000000</td>\n",
       "      <td>4.000000</td>\n",
       "      <td>-283.000000</td>\n",
       "      <td>0.00000</td>\n",
       "    </tr>\n",
       "    <tr>\n",
       "      <th>25%</th>\n",
       "      <td>35196.000000</td>\n",
       "      <td>0.000000</td>\n",
       "      <td>0.000000</td>\n",
       "      <td>24.000000</td>\n",
       "      <td>24.000000</td>\n",
       "      <td>2.000000</td>\n",
       "      <td>16.000000</td>\n",
       "      <td>3.000000</td>\n",
       "      <td>1.000000</td>\n",
       "      <td>9.000000</td>\n",
       "      <td>...</td>\n",
       "      <td>0.000000</td>\n",
       "      <td>0.000000</td>\n",
       "      <td>0.000000</td>\n",
       "      <td>0.000000</td>\n",
       "      <td>0.000000</td>\n",
       "      <td>0.000000</td>\n",
       "      <td>0.000000</td>\n",
       "      <td>56.000000</td>\n",
       "      <td>42.000000</td>\n",
       "      <td>0.00000</td>\n",
       "    </tr>\n",
       "    <tr>\n",
       "      <th>50%</th>\n",
       "      <td>51287.000000</td>\n",
       "      <td>0.000000</td>\n",
       "      <td>0.000000</td>\n",
       "      <td>49.000000</td>\n",
       "      <td>178.000000</td>\n",
       "      <td>8.000000</td>\n",
       "      <td>68.000000</td>\n",
       "      <td>12.000000</td>\n",
       "      <td>8.000000</td>\n",
       "      <td>25.000000</td>\n",
       "      <td>...</td>\n",
       "      <td>0.000000</td>\n",
       "      <td>0.000000</td>\n",
       "      <td>0.000000</td>\n",
       "      <td>0.000000</td>\n",
       "      <td>1.000000</td>\n",
       "      <td>0.000000</td>\n",
       "      <td>0.000000</td>\n",
       "      <td>343.000000</td>\n",
       "      <td>288.000000</td>\n",
       "      <td>0.00000</td>\n",
       "    </tr>\n",
       "    <tr>\n",
       "      <th>75%</th>\n",
       "      <td>68281.000000</td>\n",
       "      <td>1.000000</td>\n",
       "      <td>1.000000</td>\n",
       "      <td>74.000000</td>\n",
       "      <td>507.000000</td>\n",
       "      <td>33.000000</td>\n",
       "      <td>232.000000</td>\n",
       "      <td>50.000000</td>\n",
       "      <td>34.000000</td>\n",
       "      <td>56.000000</td>\n",
       "      <td>...</td>\n",
       "      <td>1.000000</td>\n",
       "      <td>0.000000</td>\n",
       "      <td>0.000000</td>\n",
       "      <td>0.000000</td>\n",
       "      <td>1.000000</td>\n",
       "      <td>0.000000</td>\n",
       "      <td>0.000000</td>\n",
       "      <td>964.000000</td>\n",
       "      <td>884.000000</td>\n",
       "      <td>0.00000</td>\n",
       "    </tr>\n",
       "    <tr>\n",
       "      <th>max</th>\n",
       "      <td>113734.000000</td>\n",
       "      <td>2.000000</td>\n",
       "      <td>2.000000</td>\n",
       "      <td>99.000000</td>\n",
       "      <td>1493.000000</td>\n",
       "      <td>199.000000</td>\n",
       "      <td>1725.000000</td>\n",
       "      <td>259.000000</td>\n",
       "      <td>262.000000</td>\n",
       "      <td>321.000000</td>\n",
       "      <td>...</td>\n",
       "      <td>1.000000</td>\n",
       "      <td>1.000000</td>\n",
       "      <td>1.000000</td>\n",
       "      <td>1.000000</td>\n",
       "      <td>1.000000</td>\n",
       "      <td>1.000000</td>\n",
       "      <td>1.000000</td>\n",
       "      <td>2491.000000</td>\n",
       "      <td>2458.000000</td>\n",
       "      <td>4.00000</td>\n",
       "    </tr>\n",
       "  </tbody>\n",
       "</table>\n",
       "<p>8 rows × 39 columns</p>\n",
       "</div>"
      ],
      "text/plain": [
       "              Income      Kidhome     Teenhome      Recency     MntWines  \\\n",
       "count    2205.000000  2205.000000  2205.000000  2205.000000  2205.000000   \n",
       "mean    51622.094785     0.442177     0.506576    49.009070   306.164626   \n",
       "std     20713.063826     0.537132     0.544380    28.932111   337.493839   \n",
       "min      1730.000000     0.000000     0.000000     0.000000     0.000000   \n",
       "25%     35196.000000     0.000000     0.000000    24.000000    24.000000   \n",
       "50%     51287.000000     0.000000     0.000000    49.000000   178.000000   \n",
       "75%     68281.000000     1.000000     1.000000    74.000000   507.000000   \n",
       "max    113734.000000     2.000000     2.000000    99.000000  1493.000000   \n",
       "\n",
       "         MntFruits  MntMeatProducts  MntFishProducts  MntSweetProducts  \\\n",
       "count  2205.000000      2205.000000      2205.000000       2205.000000   \n",
       "mean     26.403175       165.312018        37.756463         27.128345   \n",
       "std      39.784484       217.784507        54.824635         41.130468   \n",
       "min       0.000000         0.000000         0.000000          0.000000   \n",
       "25%       2.000000        16.000000         3.000000          1.000000   \n",
       "50%       8.000000        68.000000        12.000000          8.000000   \n",
       "75%      33.000000       232.000000        50.000000         34.000000   \n",
       "max     199.000000      1725.000000       259.000000        262.000000   \n",
       "\n",
       "       MntGoldProds  ...  marital_Together  marital_Widow  education_2n Cycle  \\\n",
       "count   2205.000000  ...       2205.000000    2205.000000         2205.000000   \n",
       "mean      44.057143  ...          0.257596       0.034467            0.089796   \n",
       "std       51.736211  ...          0.437410       0.182467            0.285954   \n",
       "min        0.000000  ...          0.000000       0.000000            0.000000   \n",
       "25%        9.000000  ...          0.000000       0.000000            0.000000   \n",
       "50%       25.000000  ...          0.000000       0.000000            0.000000   \n",
       "75%       56.000000  ...          1.000000       0.000000            0.000000   \n",
       "max      321.000000  ...          1.000000       1.000000            1.000000   \n",
       "\n",
       "       education_Basic  education_Graduation  education_Master  education_PhD  \\\n",
       "count      2205.000000           2205.000000       2205.000000    2205.000000   \n",
       "mean          0.024490              0.504762          0.165079       0.215873   \n",
       "std           0.154599              0.500091          0.371336       0.411520   \n",
       "min           0.000000              0.000000          0.000000       0.000000   \n",
       "25%           0.000000              0.000000          0.000000       0.000000   \n",
       "50%           0.000000              1.000000          0.000000       0.000000   \n",
       "75%           0.000000              1.000000          0.000000       0.000000   \n",
       "max           1.000000              1.000000          1.000000       1.000000   \n",
       "\n",
       "          MntTotal  MntRegularProds  AcceptedCmpOverall  \n",
       "count  2205.000000      2205.000000          2205.00000  \n",
       "mean    562.764626       518.707483             0.29932  \n",
       "std     575.936911       553.847248             0.68044  \n",
       "min       4.000000      -283.000000             0.00000  \n",
       "25%      56.000000        42.000000             0.00000  \n",
       "50%     343.000000       288.000000             0.00000  \n",
       "75%     964.000000       884.000000             0.00000  \n",
       "max    2491.000000      2458.000000             4.00000  \n",
       "\n",
       "[8 rows x 39 columns]"
      ]
     },
     "execution_count": 3,
     "metadata": {},
     "output_type": "execute_result"
    }
   ],
   "source": [
    "df.describe()"
   ]
  },
  {
   "cell_type": "markdown",
   "id": "7f697f1b-f362-43d8-a440-895d530ec9f7",
   "metadata": {},
   "source": [
    "# Checking for how many rows and columns that are in the dataset"
   ]
  },
  {
   "cell_type": "code",
   "execution_count": 4,
   "id": "11f8c372-abdb-40a2-b604-938f63b0a8d0",
   "metadata": {},
   "outputs": [
    {
     "data": {
      "text/plain": [
       "(2205, 39)"
      ]
     },
     "execution_count": 4,
     "metadata": {},
     "output_type": "execute_result"
    }
   ],
   "source": [
    "df.shape"
   ]
  },
  {
   "cell_type": "markdown",
   "id": "c37423d0-7ed6-4453-8b1c-068f16267223",
   "metadata": {},
   "source": [
    "# Checking for a brief overview of the dataset"
   ]
  },
  {
   "cell_type": "code",
   "execution_count": 5,
   "id": "1d8c0e00-db44-43d8-b924-82b62b7b06a1",
   "metadata": {},
   "outputs": [
    {
     "data": {
      "text/plain": [
       "<bound method DataFrame.info of       Income  Kidhome  Teenhome  Recency  MntWines  MntFruits  \\\n",
       "0      58138        0         0       58       635         88   \n",
       "1      46344        1         1       38        11          1   \n",
       "2      71613        0         0       26       426         49   \n",
       "3      26646        1         0       26        11          4   \n",
       "4      58293        1         0       94       173         43   \n",
       "...      ...      ...       ...      ...       ...        ...   \n",
       "2200   61223        0         1       46       709         43   \n",
       "2201   64014        2         1       56       406          0   \n",
       "2202   56981        0         0       91       908         48   \n",
       "2203   69245        0         1        8       428         30   \n",
       "2204   52869        1         1       40        84          3   \n",
       "\n",
       "      MntMeatProducts  MntFishProducts  MntSweetProducts  MntGoldProds  ...  \\\n",
       "0                 546              172                88            88  ...   \n",
       "1                   6                2                 1             6  ...   \n",
       "2                 127              111                21            42  ...   \n",
       "3                  20               10                 3             5  ...   \n",
       "4                 118               46                27            15  ...   \n",
       "...               ...              ...               ...           ...  ...   \n",
       "2200              182               42               118           247  ...   \n",
       "2201               30                0                 0             8  ...   \n",
       "2202              217               32                12            24  ...   \n",
       "2203              214               80                30            61  ...   \n",
       "2204               61                2                 1            21  ...   \n",
       "\n",
       "      marital_Together  marital_Widow  education_2n Cycle  education_Basic  \\\n",
       "0                    0              0                   0                0   \n",
       "1                    0              0                   0                0   \n",
       "2                    1              0                   0                0   \n",
       "3                    1              0                   0                0   \n",
       "4                    0              0                   0                0   \n",
       "...                ...            ...                 ...              ...   \n",
       "2200                 0              0                   0                0   \n",
       "2201                 1              0                   0                0   \n",
       "2202                 0              0                   0                0   \n",
       "2203                 1              0                   0                0   \n",
       "2204                 0              0                   0                0   \n",
       "\n",
       "      education_Graduation  education_Master  education_PhD  MntTotal  \\\n",
       "0                        1                 0              0      1529   \n",
       "1                        1                 0              0        21   \n",
       "2                        1                 0              0       734   \n",
       "3                        1                 0              0        48   \n",
       "4                        0                 0              1       407   \n",
       "...                    ...               ...            ...       ...   \n",
       "2200                     1                 0              0      1094   \n",
       "2201                     0                 0              1       436   \n",
       "2202                     1                 0              0      1217   \n",
       "2203                     0                 1              0       782   \n",
       "2204                     0                 0              1       151   \n",
       "\n",
       "      MntRegularProds  AcceptedCmpOverall  \n",
       "0                1441                   0  \n",
       "1                  15                   0  \n",
       "2                 692                   0  \n",
       "3                  43                   0  \n",
       "4                 392                   0  \n",
       "...               ...                 ...  \n",
       "2200              847                   0  \n",
       "2201              428                   1  \n",
       "2202             1193                   1  \n",
       "2203              721                   0  \n",
       "2204              130                   0  \n",
       "\n",
       "[2205 rows x 39 columns]>"
      ]
     },
     "execution_count": 5,
     "metadata": {},
     "output_type": "execute_result"
    }
   ],
   "source": [
    "df.info"
   ]
  },
  {
   "cell_type": "markdown",
   "id": "8fcfb62f-2770-45b9-8633-3c7c4452aeb5",
   "metadata": {},
   "source": [
    "# Checking for the columns name"
   ]
  },
  {
   "cell_type": "code",
   "execution_count": 6,
   "id": "6a8197f5-2622-47ce-8872-06fb68b6186e",
   "metadata": {},
   "outputs": [
    {
     "data": {
      "text/plain": [
       "Index(['Income', 'Kidhome', 'Teenhome', 'Recency', 'MntWines', 'MntFruits',\n",
       "       'MntMeatProducts', 'MntFishProducts', 'MntSweetProducts',\n",
       "       'MntGoldProds', 'NumDealsPurchases', 'NumWebPurchases',\n",
       "       'NumCatalogPurchases', 'NumStorePurchases', 'NumWebVisitsMonth',\n",
       "       'AcceptedCmp3', 'AcceptedCmp4', 'AcceptedCmp5', 'AcceptedCmp1',\n",
       "       'AcceptedCmp2', 'Complain', 'Z_CostContact', 'Z_Revenue', 'Response',\n",
       "       'Age', 'Customer_Days', 'marital_Divorced', 'marital_Married',\n",
       "       'marital_Single', 'marital_Together', 'marital_Widow',\n",
       "       'education_2n Cycle', 'education_Basic', 'education_Graduation',\n",
       "       'education_Master', 'education_PhD', 'MntTotal', 'MntRegularProds',\n",
       "       'AcceptedCmpOverall'],\n",
       "      dtype='object')"
      ]
     },
     "execution_count": 6,
     "metadata": {},
     "output_type": "execute_result"
    }
   ],
   "source": [
    "df.columns"
   ]
  },
  {
   "cell_type": "markdown",
   "id": "20cdfb1e-e96c-40c5-a6ea-7c08efa2f605",
   "metadata": {},
   "source": [
    "# Checking for the data types"
   ]
  },
  {
   "cell_type": "code",
   "execution_count": 7,
   "id": "ba86f1ac-ac4f-4304-a76f-02f0bccafad2",
   "metadata": {},
   "outputs": [
    {
     "data": {
      "text/plain": [
       "Income                  int64\n",
       "Kidhome                 int64\n",
       "Teenhome                int64\n",
       "Recency                 int64\n",
       "MntWines                int64\n",
       "MntFruits               int64\n",
       "MntMeatProducts         int64\n",
       "MntFishProducts         int64\n",
       "MntSweetProducts        int64\n",
       "MntGoldProds            int64\n",
       "NumDealsPurchases       int64\n",
       "NumWebPurchases         int64\n",
       "NumCatalogPurchases     int64\n",
       "NumStorePurchases       int64\n",
       "NumWebVisitsMonth       int64\n",
       "AcceptedCmp3            int64\n",
       "AcceptedCmp4            int64\n",
       "AcceptedCmp5            int64\n",
       "AcceptedCmp1            int64\n",
       "AcceptedCmp2            int64\n",
       "Complain                int64\n",
       "Z_CostContact           int64\n",
       "Z_Revenue               int64\n",
       "Response                int64\n",
       "Age                     int64\n",
       "Customer_Days           int64\n",
       "marital_Divorced        int64\n",
       "marital_Married         int64\n",
       "marital_Single          int64\n",
       "marital_Together        int64\n",
       "marital_Widow           int64\n",
       "education_2n Cycle      int64\n",
       "education_Basic         int64\n",
       "education_Graduation    int64\n",
       "education_Master        int64\n",
       "education_PhD           int64\n",
       "MntTotal                int64\n",
       "MntRegularProds         int64\n",
       "AcceptedCmpOverall      int64\n",
       "dtype: object"
      ]
     },
     "execution_count": 7,
     "metadata": {},
     "output_type": "execute_result"
    }
   ],
   "source": [
    "df.dtypes"
   ]
  },
  {
   "cell_type": "markdown",
   "id": "428ba4bc-edef-4165-84ea-e7c86ed8d4c6",
   "metadata": {},
   "source": [
    "# Checking for missing values"
   ]
  },
  {
   "cell_type": "code",
   "execution_count": 8,
   "id": "3241552d-0d01-44de-9947-e0067c7042bd",
   "metadata": {},
   "outputs": [
    {
     "data": {
      "text/plain": [
       "Income                  0\n",
       "Kidhome                 0\n",
       "Teenhome                0\n",
       "Recency                 0\n",
       "MntWines                0\n",
       "MntFruits               0\n",
       "MntMeatProducts         0\n",
       "MntFishProducts         0\n",
       "MntSweetProducts        0\n",
       "MntGoldProds            0\n",
       "NumDealsPurchases       0\n",
       "NumWebPurchases         0\n",
       "NumCatalogPurchases     0\n",
       "NumStorePurchases       0\n",
       "NumWebVisitsMonth       0\n",
       "AcceptedCmp3            0\n",
       "AcceptedCmp4            0\n",
       "AcceptedCmp5            0\n",
       "AcceptedCmp1            0\n",
       "AcceptedCmp2            0\n",
       "Complain                0\n",
       "Z_CostContact           0\n",
       "Z_Revenue               0\n",
       "Response                0\n",
       "Age                     0\n",
       "Customer_Days           0\n",
       "marital_Divorced        0\n",
       "marital_Married         0\n",
       "marital_Single          0\n",
       "marital_Together        0\n",
       "marital_Widow           0\n",
       "education_2n Cycle      0\n",
       "education_Basic         0\n",
       "education_Graduation    0\n",
       "education_Master        0\n",
       "education_PhD           0\n",
       "MntTotal                0\n",
       "MntRegularProds         0\n",
       "AcceptedCmpOverall      0\n",
       "dtype: int64"
      ]
     },
     "execution_count": 8,
     "metadata": {},
     "output_type": "execute_result"
    }
   ],
   "source": [
    "df.isnull().sum()"
   ]
  },
  {
   "cell_type": "markdown",
   "id": "3c923486-46a3-4207-9899-da62dac7bb33",
   "metadata": {},
   "source": [
    "# Checking for duplicate"
   ]
  },
  {
   "cell_type": "code",
   "execution_count": 9,
   "id": "6da25869-9171-4e66-9cf0-1df0a8f12d97",
   "metadata": {},
   "outputs": [
    {
     "data": {
      "text/plain": [
       "184"
      ]
     },
     "execution_count": 9,
     "metadata": {},
     "output_type": "execute_result"
    }
   ],
   "source": [
    "df.duplicated().sum()"
   ]
  },
  {
   "cell_type": "markdown",
   "id": "a542b1ce-d619-40ba-b811-a1c6f2c88244",
   "metadata": {},
   "source": [
    "# Checking to see the duplicates value"
   ]
  },
  {
   "cell_type": "code",
   "execution_count": 10,
   "id": "08bccef9-b548-4da3-a8a9-97b2e81b4e8e",
   "metadata": {},
   "outputs": [
    {
     "data": {
      "text/html": [
       "<div>\n",
       "<style scoped>\n",
       "    .dataframe tbody tr th:only-of-type {\n",
       "        vertical-align: middle;\n",
       "    }\n",
       "\n",
       "    .dataframe tbody tr th {\n",
       "        vertical-align: top;\n",
       "    }\n",
       "\n",
       "    .dataframe thead th {\n",
       "        text-align: right;\n",
       "    }\n",
       "</style>\n",
       "<table border=\"1\" class=\"dataframe\">\n",
       "  <thead>\n",
       "    <tr style=\"text-align: right;\">\n",
       "      <th></th>\n",
       "      <th>Income</th>\n",
       "      <th>Kidhome</th>\n",
       "      <th>Teenhome</th>\n",
       "      <th>Recency</th>\n",
       "      <th>MntWines</th>\n",
       "      <th>MntFruits</th>\n",
       "      <th>MntMeatProducts</th>\n",
       "      <th>MntFishProducts</th>\n",
       "      <th>MntSweetProducts</th>\n",
       "      <th>MntGoldProds</th>\n",
       "      <th>...</th>\n",
       "      <th>marital_Together</th>\n",
       "      <th>marital_Widow</th>\n",
       "      <th>education_2n Cycle</th>\n",
       "      <th>education_Basic</th>\n",
       "      <th>education_Graduation</th>\n",
       "      <th>education_Master</th>\n",
       "      <th>education_PhD</th>\n",
       "      <th>MntTotal</th>\n",
       "      <th>MntRegularProds</th>\n",
       "      <th>AcceptedCmpOverall</th>\n",
       "    </tr>\n",
       "  </thead>\n",
       "  <tbody>\n",
       "    <tr>\n",
       "      <th>77</th>\n",
       "      <td>38620</td>\n",
       "      <td>0</td>\n",
       "      <td>0</td>\n",
       "      <td>56</td>\n",
       "      <td>112</td>\n",
       "      <td>17</td>\n",
       "      <td>44</td>\n",
       "      <td>34</td>\n",
       "      <td>22</td>\n",
       "      <td>89</td>\n",
       "      <td>...</td>\n",
       "      <td>1</td>\n",
       "      <td>0</td>\n",
       "      <td>0</td>\n",
       "      <td>0</td>\n",
       "      <td>0</td>\n",
       "      <td>1</td>\n",
       "      <td>0</td>\n",
       "      <td>229</td>\n",
       "      <td>140</td>\n",
       "      <td>0</td>\n",
       "    </tr>\n",
       "    <tr>\n",
       "      <th>167</th>\n",
       "      <td>78497</td>\n",
       "      <td>0</td>\n",
       "      <td>0</td>\n",
       "      <td>44</td>\n",
       "      <td>207</td>\n",
       "      <td>26</td>\n",
       "      <td>447</td>\n",
       "      <td>75</td>\n",
       "      <td>0</td>\n",
       "      <td>223</td>\n",
       "      <td>...</td>\n",
       "      <td>0</td>\n",
       "      <td>0</td>\n",
       "      <td>1</td>\n",
       "      <td>0</td>\n",
       "      <td>0</td>\n",
       "      <td>0</td>\n",
       "      <td>0</td>\n",
       "      <td>755</td>\n",
       "      <td>532</td>\n",
       "      <td>1</td>\n",
       "    </tr>\n",
       "    <tr>\n",
       "      <th>267</th>\n",
       "      <td>51369</td>\n",
       "      <td>0</td>\n",
       "      <td>1</td>\n",
       "      <td>84</td>\n",
       "      <td>297</td>\n",
       "      <td>7</td>\n",
       "      <td>79</td>\n",
       "      <td>0</td>\n",
       "      <td>11</td>\n",
       "      <td>182</td>\n",
       "      <td>...</td>\n",
       "      <td>1</td>\n",
       "      <td>0</td>\n",
       "      <td>0</td>\n",
       "      <td>0</td>\n",
       "      <td>1</td>\n",
       "      <td>0</td>\n",
       "      <td>0</td>\n",
       "      <td>394</td>\n",
       "      <td>212</td>\n",
       "      <td>0</td>\n",
       "    </tr>\n",
       "    <tr>\n",
       "      <th>268</th>\n",
       "      <td>37760</td>\n",
       "      <td>0</td>\n",
       "      <td>0</td>\n",
       "      <td>20</td>\n",
       "      <td>84</td>\n",
       "      <td>5</td>\n",
       "      <td>38</td>\n",
       "      <td>150</td>\n",
       "      <td>12</td>\n",
       "      <td>28</td>\n",
       "      <td>...</td>\n",
       "      <td>1</td>\n",
       "      <td>0</td>\n",
       "      <td>0</td>\n",
       "      <td>0</td>\n",
       "      <td>1</td>\n",
       "      <td>0</td>\n",
       "      <td>0</td>\n",
       "      <td>289</td>\n",
       "      <td>261</td>\n",
       "      <td>0</td>\n",
       "    </tr>\n",
       "    <tr>\n",
       "      <th>346</th>\n",
       "      <td>37717</td>\n",
       "      <td>1</td>\n",
       "      <td>0</td>\n",
       "      <td>31</td>\n",
       "      <td>9</td>\n",
       "      <td>0</td>\n",
       "      <td>6</td>\n",
       "      <td>4</td>\n",
       "      <td>1</td>\n",
       "      <td>5</td>\n",
       "      <td>...</td>\n",
       "      <td>0</td>\n",
       "      <td>0</td>\n",
       "      <td>0</td>\n",
       "      <td>0</td>\n",
       "      <td>0</td>\n",
       "      <td>0</td>\n",
       "      <td>1</td>\n",
       "      <td>20</td>\n",
       "      <td>15</td>\n",
       "      <td>0</td>\n",
       "    </tr>\n",
       "    <tr>\n",
       "      <th>...</th>\n",
       "      <td>...</td>\n",
       "      <td>...</td>\n",
       "      <td>...</td>\n",
       "      <td>...</td>\n",
       "      <td>...</td>\n",
       "      <td>...</td>\n",
       "      <td>...</td>\n",
       "      <td>...</td>\n",
       "      <td>...</td>\n",
       "      <td>...</td>\n",
       "      <td>...</td>\n",
       "      <td>...</td>\n",
       "      <td>...</td>\n",
       "      <td>...</td>\n",
       "      <td>...</td>\n",
       "      <td>...</td>\n",
       "      <td>...</td>\n",
       "      <td>...</td>\n",
       "      <td>...</td>\n",
       "      <td>...</td>\n",
       "      <td>...</td>\n",
       "    </tr>\n",
       "    <tr>\n",
       "      <th>2185</th>\n",
       "      <td>22775</td>\n",
       "      <td>1</td>\n",
       "      <td>0</td>\n",
       "      <td>40</td>\n",
       "      <td>5</td>\n",
       "      <td>1</td>\n",
       "      <td>8</td>\n",
       "      <td>0</td>\n",
       "      <td>0</td>\n",
       "      <td>1</td>\n",
       "      <td>...</td>\n",
       "      <td>1</td>\n",
       "      <td>0</td>\n",
       "      <td>0</td>\n",
       "      <td>0</td>\n",
       "      <td>1</td>\n",
       "      <td>0</td>\n",
       "      <td>0</td>\n",
       "      <td>14</td>\n",
       "      <td>13</td>\n",
       "      <td>0</td>\n",
       "    </tr>\n",
       "    <tr>\n",
       "      <th>2188</th>\n",
       "      <td>75777</td>\n",
       "      <td>0</td>\n",
       "      <td>0</td>\n",
       "      <td>12</td>\n",
       "      <td>712</td>\n",
       "      <td>26</td>\n",
       "      <td>538</td>\n",
       "      <td>69</td>\n",
       "      <td>13</td>\n",
       "      <td>80</td>\n",
       "      <td>...</td>\n",
       "      <td>0</td>\n",
       "      <td>0</td>\n",
       "      <td>0</td>\n",
       "      <td>0</td>\n",
       "      <td>0</td>\n",
       "      <td>1</td>\n",
       "      <td>0</td>\n",
       "      <td>1358</td>\n",
       "      <td>1278</td>\n",
       "      <td>2</td>\n",
       "    </tr>\n",
       "    <tr>\n",
       "      <th>2192</th>\n",
       "      <td>58554</td>\n",
       "      <td>1</td>\n",
       "      <td>1</td>\n",
       "      <td>55</td>\n",
       "      <td>368</td>\n",
       "      <td>24</td>\n",
       "      <td>68</td>\n",
       "      <td>38</td>\n",
       "      <td>0</td>\n",
       "      <td>88</td>\n",
       "      <td>...</td>\n",
       "      <td>1</td>\n",
       "      <td>0</td>\n",
       "      <td>0</td>\n",
       "      <td>0</td>\n",
       "      <td>1</td>\n",
       "      <td>0</td>\n",
       "      <td>0</td>\n",
       "      <td>498</td>\n",
       "      <td>410</td>\n",
       "      <td>0</td>\n",
       "    </tr>\n",
       "    <tr>\n",
       "      <th>2199</th>\n",
       "      <td>34421</td>\n",
       "      <td>1</td>\n",
       "      <td>0</td>\n",
       "      <td>81</td>\n",
       "      <td>3</td>\n",
       "      <td>3</td>\n",
       "      <td>7</td>\n",
       "      <td>6</td>\n",
       "      <td>2</td>\n",
       "      <td>9</td>\n",
       "      <td>...</td>\n",
       "      <td>0</td>\n",
       "      <td>0</td>\n",
       "      <td>0</td>\n",
       "      <td>0</td>\n",
       "      <td>1</td>\n",
       "      <td>0</td>\n",
       "      <td>0</td>\n",
       "      <td>21</td>\n",
       "      <td>12</td>\n",
       "      <td>0</td>\n",
       "    </tr>\n",
       "    <tr>\n",
       "      <th>2201</th>\n",
       "      <td>64014</td>\n",
       "      <td>2</td>\n",
       "      <td>1</td>\n",
       "      <td>56</td>\n",
       "      <td>406</td>\n",
       "      <td>0</td>\n",
       "      <td>30</td>\n",
       "      <td>0</td>\n",
       "      <td>0</td>\n",
       "      <td>8</td>\n",
       "      <td>...</td>\n",
       "      <td>1</td>\n",
       "      <td>0</td>\n",
       "      <td>0</td>\n",
       "      <td>0</td>\n",
       "      <td>0</td>\n",
       "      <td>0</td>\n",
       "      <td>1</td>\n",
       "      <td>436</td>\n",
       "      <td>428</td>\n",
       "      <td>1</td>\n",
       "    </tr>\n",
       "  </tbody>\n",
       "</table>\n",
       "<p>184 rows × 39 columns</p>\n",
       "</div>"
      ],
      "text/plain": [
       "      Income  Kidhome  Teenhome  Recency  MntWines  MntFruits  \\\n",
       "77     38620        0         0       56       112         17   \n",
       "167    78497        0         0       44       207         26   \n",
       "267    51369        0         1       84       297          7   \n",
       "268    37760        0         0       20        84          5   \n",
       "346    37717        1         0       31         9          0   \n",
       "...      ...      ...       ...      ...       ...        ...   \n",
       "2185   22775        1         0       40         5          1   \n",
       "2188   75777        0         0       12       712         26   \n",
       "2192   58554        1         1       55       368         24   \n",
       "2199   34421        1         0       81         3          3   \n",
       "2201   64014        2         1       56       406          0   \n",
       "\n",
       "      MntMeatProducts  MntFishProducts  MntSweetProducts  MntGoldProds  ...  \\\n",
       "77                 44               34                22            89  ...   \n",
       "167               447               75                 0           223  ...   \n",
       "267                79                0                11           182  ...   \n",
       "268                38              150                12            28  ...   \n",
       "346                 6                4                 1             5  ...   \n",
       "...               ...              ...               ...           ...  ...   \n",
       "2185                8                0                 0             1  ...   \n",
       "2188              538               69                13            80  ...   \n",
       "2192               68               38                 0            88  ...   \n",
       "2199                7                6                 2             9  ...   \n",
       "2201               30                0                 0             8  ...   \n",
       "\n",
       "      marital_Together  marital_Widow  education_2n Cycle  education_Basic  \\\n",
       "77                   1              0                   0                0   \n",
       "167                  0              0                   1                0   \n",
       "267                  1              0                   0                0   \n",
       "268                  1              0                   0                0   \n",
       "346                  0              0                   0                0   \n",
       "...                ...            ...                 ...              ...   \n",
       "2185                 1              0                   0                0   \n",
       "2188                 0              0                   0                0   \n",
       "2192                 1              0                   0                0   \n",
       "2199                 0              0                   0                0   \n",
       "2201                 1              0                   0                0   \n",
       "\n",
       "      education_Graduation  education_Master  education_PhD  MntTotal  \\\n",
       "77                       0                 1              0       229   \n",
       "167                      0                 0              0       755   \n",
       "267                      1                 0              0       394   \n",
       "268                      1                 0              0       289   \n",
       "346                      0                 0              1        20   \n",
       "...                    ...               ...            ...       ...   \n",
       "2185                     1                 0              0        14   \n",
       "2188                     0                 1              0      1358   \n",
       "2192                     1                 0              0       498   \n",
       "2199                     1                 0              0        21   \n",
       "2201                     0                 0              1       436   \n",
       "\n",
       "      MntRegularProds  AcceptedCmpOverall  \n",
       "77                140                   0  \n",
       "167               532                   1  \n",
       "267               212                   0  \n",
       "268               261                   0  \n",
       "346                15                   0  \n",
       "...               ...                 ...  \n",
       "2185               13                   0  \n",
       "2188             1278                   2  \n",
       "2192              410                   0  \n",
       "2199               12                   0  \n",
       "2201              428                   1  \n",
       "\n",
       "[184 rows x 39 columns]"
      ]
     },
     "execution_count": 10,
     "metadata": {},
     "output_type": "execute_result"
    }
   ],
   "source": [
    "df[df.duplicated()]"
   ]
  },
  {
   "cell_type": "markdown",
   "id": "abb45de6-0beb-416f-a8c7-a063523b84a5",
   "metadata": {},
   "source": [
    "# Dropping the duplicates"
   ]
  },
  {
   "cell_type": "code",
   "execution_count": 11,
   "id": "c5ccacb7-1ea1-4b16-8aeb-3c695a9ecfd8",
   "metadata": {},
   "outputs": [],
   "source": [
    "df.drop_duplicates(inplace = True)"
   ]
  },
  {
   "cell_type": "code",
   "execution_count": 12,
   "id": "16165c77-2292-4262-8a14-54d0017bdc38",
   "metadata": {},
   "outputs": [
    {
     "data": {
      "text/plain": [
       "(2021, 39)"
      ]
     },
     "execution_count": 12,
     "metadata": {},
     "output_type": "execute_result"
    }
   ],
   "source": [
    "df.shape"
   ]
  },
  {
   "cell_type": "markdown",
   "id": "0ef8a72a-d542-4242-ab6c-704ceebc1f0f",
   "metadata": {},
   "source": [
    "# Which income groups spend the most on premium vs regular products?"
   ]
  },
  {
   "cell_type": "code",
   "execution_count": 13,
   "id": "42829f55-12fb-4c79-90d6-df911ca31b0b",
   "metadata": {},
   "outputs": [],
   "source": [
    "# Bin Income into groups (e.g., quartiles)\n",
    "df['IncomeGroup'] = pd.qcut(df['Income'], q=4, labels=['Low', 'Mid-Low', 'High', 'Mid-High'])"
   ]
  },
  {
   "cell_type": "code",
   "execution_count": 14,
   "id": "896671d4-56f9-44fe-afd2-43244cfabf1e",
   "metadata": {},
   "outputs": [
    {
     "name": "stdout",
     "output_type": "stream",
     "text": [
      "             MntGoldProds  MntRegularProds\n",
      "IncomeGroup                               \n",
      "Low             17.286561        48.725296\n",
      "Mid-Low         28.089109       175.396040\n",
      "High            58.360396       630.887129\n",
      "Mid-High        72.003960      1225.394059\n"
     ]
    }
   ],
   "source": [
    "premium_vs_regular = df.groupby('IncomeGroup', observed=True)[['MntGoldProds', 'MntRegularProds']].mean()\n",
    "print(premium_vs_regular)"
   ]
  },
  {
   "cell_type": "code",
   "execution_count": 15,
   "id": "751414e8-b3dc-4ce2-8da4-50121bc0f8c7",
   "metadata": {},
   "outputs": [
    {
     "data": {
      "image/png": "[encoded data removed]",
      "text/plain": [
       "<Figure size 640x480 with 1 Axes>"
      ]
     },
     "metadata": {},
     "output_type": "display_data"
    }
   ],
   "source": [
    "premium_vs_regular.plot(kind='bar')\n",
    "plt.title('Spending on Premium vs Regular Products by Income Group')\n",
    "plt.ylabel('Average Spend')\n",
    "plt.show()"
   ]
  },
  {
   "cell_type": "markdown",
   "id": "824568db-b836-4a98-9588-d3d26a3d325d",
   "metadata": {},
   "source": [
    "### Income Groups Spending on Premium vs. Regular Products:\n",
    "#### Spending by IncomeGroup"
   ]
  },
  {
   "cell_type": "markdown",
   "id": "05371c0b-99ac-443b-ac13-4d0fb7d7a5ad",
   "metadata": {},
   "source": [
    "Low: MntGoldProds (17.29), MntRegularProds (48.73)\n",
    "\n",
    "Mid-Low: MntGoldProds (28.09), MntRegularProds (175.36)\n",
    "\n",
    "High: MntGoldProds (58.36), MntRegularProds (630.89)\n",
    "\n",
    "Mid-High: MntGoldProds (72.09), MntRegularProds (1225.35)"
   ]
  },
  {
   "cell_type": "markdown",
   "id": "67b1d4a2-225d-4334-a5ba-1dd27cc4090a",
   "metadata": {},
   "source": [
    "### Insights"
   ]
  },
  {
   "cell_type": "code",
   "execution_count": null,
   "id": "7fe1eb9f-e08b-44c8-8ef3-b5ae3b0cfd61",
   "metadata": {},
   "outputs": [],
   "source": [
    "Mid-High income group spends the most on both premium (MntGoldProds: 72.09) and regular products (MntRegularProds: 1225.35).\n",
    "\n",
    "Spending on regular products far exceeds premium across all income groups, with the gap widest in Mid-High (1225.35 vs. 72.09).\n",
    "\n",
    "Premium product spending increases with income, but regular product spending grows more significantly (e.g., 48.73 in Low to 1225.35 in Mid-High)."
   ]
  },
  {
   "cell_type": "markdown",
   "id": "a59bcd97-3d58-4e92-86a2-71192f105b22",
   "metadata": {},
   "source": [
    "### Recommendations"
   ]
  },
  {
   "cell_type": "markdown",
   "id": "e7b7e14d-4448-4259-98a5-e4ea5efac4f3",
   "metadata": {},
   "source": [
    "Target Mid-High and High income groups for both premium and regular products, especially regular products (e.g., Wines, Meat) given their high spending.\n",
    "\n",
    "For premium products (Gold), focus on Mid-High (72.09) and High (58.36) groups with luxury offerings.\n",
    "\n",
    "Offer budget-friendly regular products to Low and Mid-Low groups, as their spending on premium products is minimal.\n",
    "\n",
    "Use Catalog campaigns (0.57 acceptance rate) for Mid-High/High groups, combining with demographics like 40-60 singles with lower education"
   ]
  },
  {
   "cell_type": "markdown",
   "id": "404c3ae5-6372-42c5-bb5f-b0cc496e28dc",
   "metadata": {},
   "source": [
    "# How does family composition (kids/teens) affect product spending patterns?"
   ]
  },
  {
   "cell_type": "code",
   "execution_count": 16,
   "id": "185a0a95-9d5b-4091-8774-8394d2171a22",
   "metadata": {},
   "outputs": [],
   "source": [
    "# Creating a total children column\n",
    "df['TotalChildren'] = df['Kidhome'] + df['Teenhome']"
   ]
  },
  {
   "cell_type": "code",
   "execution_count": 17,
   "id": "89c5784b-1846-41d4-963f-51206e23142f",
   "metadata": {},
   "outputs": [
    {
     "name": "stdout",
     "output_type": "stream",
     "text": [
      "                 MntWines  MntFruits  MntMeatProducts  MntFishProducts  \\\n",
      "TotalChildren                                                            \n",
      "0              497.463845  53.082892       374.158730        77.199295   \n",
      "1              268.182084  19.335930        98.164557        26.796495   \n",
      "2              143.172775   7.942408        52.023560        11.678010   \n",
      "3              160.977778   6.511111        61.577778         5.422222   \n",
      "\n",
      "               MntSweetProducts  MntGoldProds  \n",
      "TotalChildren                                  \n",
      "0                     54.377425     64.239859  \n",
      "1                     20.253165     40.544304  \n",
      "2                      8.450262     25.832461  \n",
      "3                      5.555556     18.555556  \n"
     ]
    }
   ],
   "source": [
    "# Group by TotalChildren and calculate mean spending per category\n",
    "spending_by_children = df.groupby('TotalChildren')[['MntWines', 'MntFruits', 'MntMeatProducts', 'MntFishProducts', 'MntSweetProducts', 'MntGoldProds']].mean()\n",
    "print(spending_by_children)"
   ]
  },
  {
   "cell_type": "code",
   "execution_count": 18,
   "id": "7dde0f51-3ace-4683-a2a5-5c0a11cd6c27",
   "metadata": {},
   "outputs": [
    {
     "data": {
      "image/png": "[encoded data removed]",
      "text/plain": [
       "<Figure size 640x480 with 2 Axes>"
      ]
     },
     "metadata": {},
     "output_type": "display_data"
    }
   ],
   "source": [
    "sns.heatmap(spending_by_children, annot=True, cmap='Blues')\n",
    "plt.title('Spending Patterns by Number of Children')\n",
    "plt.show()"
   ]
  },
  {
   "cell_type": "markdown",
   "id": "b26d3393-8475-45b9-99a0-35c84ead7581",
   "metadata": {},
   "source": [
    "### How Family Composition (Kids/Teens) Affects Spending Patterns\n",
    "#### Spending by TotalChildren"
   ]
  },
  {
   "cell_type": "code",
   "execution_count": null,
   "id": "a6cd1734-c213-4789-aade-15911d384861",
   "metadata": {},
   "outputs": [],
   "source": [
    "0 Children: MntWines (497.46), MntMeatProducts (374.16)\n",
    "\n",
    "1 Child: MntWines (268.18), MntMeatProducts (98.16)\n",
    "\n",
    "2 Children: MntWines (143.17), MntMeatProducts (52.02)\n",
    "\n",
    "3 Children: MntWines (160.98), MntMeatProducts (61.58)\n",
    "Insights:"
   ]
  },
  {
   "cell_type": "markdown",
   "id": "42c2485b-228c-4cca-a746-855d163f3515",
   "metadata": {},
   "source": [
    "# Insights"
   ]
  },
  {
   "cell_type": "markdown",
   "id": "e45cb650-0bae-4cb9-ad61-ce68e7479e08",
   "metadata": {},
   "source": [
    "Customers with no children spend the most, especially on Wines (497.46) and Meat (374.16).\n",
    "\n",
    "Spending decreases with more children, with a significant drop from 0 to 1 child (e.g., Wines: 497.46 to 268.18).\n",
    "\n",
    "Spending stabilizes somewhat with 2-3 children, with Wines showing a slight increase from 2 to 3 children (143.17 to 160.98).\n",
    "\n",
    "Meat and other categories (e.g., Fish, Sweets) show lower spending as children increase."
   ]
  },
  {
   "cell_type": "markdown",
   "id": "1b57095d-f53f-44ff-9c5f-93f6fc3b9482",
   "metadata": {},
   "source": [
    "# Recommendations"
   ]
  },
  {
   "cell_type": "markdown",
   "id": "e3830dd9-c93f-4c58-8383-4ac9e3db0259",
   "metadata": {},
   "source": [
    "Target customers with no children for high-value categories like Wines and Meat, offering premium products.\n",
    "    \n",
    "For families with 1-2 children, focus on moderately priced Wines and Meat, and promote Gold products (e.g., 40.54 for 1 child).\n",
    "                                                                                                      \n",
    "Avoid heavy investment in Meat and Fish for families with 3 children; emphasize lower-cost items like Fruits or Sweets.\n",
    "    \n",
    "Use Catalog campaigns (0.57 acceptance rate) to engage no-child households, especially high-income, middle-aged singles (40-60 with lower education)."
   ]
  },
  {
   "cell_type": "markdown",
   "id": "6e730d55-41f2-4a14-a3e6-5ac8674f7913",
   "metadata": {},
   "source": [
    "# Can we identify customer segments based on spending habits across product categories?"
   ]
  },
  {
   "cell_type": "code",
   "execution_count": 19,
   "id": "f3a91d60-43a6-4765-84c3-8570736d7c6d",
   "metadata": {},
   "outputs": [],
   "source": [
    "# Select spending columns and standardize the data\n",
    "from sklearn.preprocessing import StandardScaler\n",
    "from sklearn.cluster import KMeans\n",
    "spending_cols = ['MntWines', 'MntFruits', 'MntMeatProducts', 'MntFishProducts', 'MntSweetProducts', 'MntGoldProds']\n",
    "scaler = StandardScaler()\n",
    "scaled_data = scaler.fit_transform(df[spending_cols])"
   ]
  },
  {
   "cell_type": "code",
   "execution_count": 20,
   "id": "395f5526-2340-4d7e-bbe5-ac2865a6fd4a",
   "metadata": {},
   "outputs": [
    {
     "data": {
      "image/png": "[encoded data removed]",
      "text/plain": [
       "<Figure size 640x480 with 1 Axes>"
      ]
     },
     "metadata": {},
     "output_type": "display_data"
    }
   ],
   "source": [
    "# Find the optimal number of clusters using the elbow method\n",
    "inertia = []\n",
    "for k in range(1, 10):\n",
    "    kmeans = KMeans(n_clusters=k, random_state=42)\n",
    "    kmeans.fit(scaled_data)\n",
    "    inertia.append(kmeans.inertia_)\n",
    "plt.plot(range(1, 10), inertia, marker='o')\n",
    "plt.title('Elbow Method for Optimal Clusters')\n",
    "plt.xlabel('Number of Clusters')\n",
    "plt.ylabel('Inertia')\n",
    "plt.show()"
   ]
  },
  {
   "cell_type": "code",
   "execution_count": 21,
   "id": "f6f4cbca-6cf0-4050-bb3c-93f6e0f3625f",
   "metadata": {},
   "outputs": [
    {
     "name": "stdout",
     "output_type": "stream",
     "text": [
      "           MntWines  MntFruits  MntMeatProducts  MntFishProducts  \\\n",
      "Cluster                                                            \n",
      "0         88.404887   6.287958        34.165794         8.536649   \n",
      "1        630.643460  25.491561       239.008439        39.694093   \n",
      "2        546.593516  84.773067       456.765586       118.201995   \n",
      "\n",
      "         MntSweetProducts  MntGoldProds  \n",
      "Cluster                                  \n",
      "0                6.249564     17.431937  \n",
      "1               27.118143     74.411392  \n",
      "2               87.516209     83.586035  \n"
     ]
    }
   ],
   "source": [
    "# Apply K-means (e.g., 3 clusters based on elbow plot)\n",
    "kmeans = KMeans(n_clusters=3, random_state=42)\n",
    "df['Cluster'] = kmeans.fit_predict(scaled_data)\n",
    "# Analyze clusters:\n",
    "cluster_spending = df.groupby('Cluster')[spending_cols].mean()\n",
    "print(cluster_spending)"
   ]
  },
  {
   "cell_type": "code",
   "execution_count": null,
   "id": "656f7c8e-7af7-4ca5-8d2d-f8f6b9470248",
   "metadata": {},
   "outputs": [],
   "source": [
    "Yes, customer segments can be identified based on spending habits across product categories using the k-means clustering approach shown. \n",
    "The elbow plot suggests an optimal number of 3 clusters, as the inertia decreases significantly up to this point."
   ]
  },
  {
   "cell_type": "markdown",
   "id": "73bcfb35-1b55-4c31-a79d-0dca40ea25a0",
   "metadata": {},
   "source": [
    "# Insights"
   ]
  },
  {
   "cell_type": "code",
   "execution_count": null,
   "id": "f07099c2-a1dc-4dd4-a14d-3be5f12e786c",
   "metadata": {},
   "outputs": [],
   "source": [
    "Cluster 0: Customers with moderate spending across all categories (e.g., MnFruits: 88.48, MnFishProducts: 6.28), indicating a balanced purchasing \n",
    "behavior.\n",
    "\n",
    "Cluster 1: High spenders on MnSweetProducts (74.43) and MnGoldProds (83.58), suggesting a preference for premium or dessert-related items.\n",
    "                                                                                                    \n",
    "Cluster 2: Lower overall spending, with a slight tilt towards MnFruits (34.16), indicating budget-conscious buyers or niche preferences."
   ]
  },
  {
   "cell_type": "markdown",
   "id": "4fbac8d5-eeae-439b-a47f-c06ec5f8c72b",
   "metadata": {},
   "source": [
    "# Recommendations"
   ]
  },
  {
   "cell_type": "code",
   "execution_count": null,
   "id": "c5e989ef-0a41-4f56-ad1b-4f6bb12cd19a",
   "metadata": {},
   "outputs": [],
   "source": [
    "Tailor marketing campaigns to Cluster 1 with promotions on premium products like MnSweetProducts and MnGoldProds.\n",
    "\n",
    "Offer bundled deals or discounts to Cluster 0 to encourage higher engagement across categories.\n",
    "\n",
    "Target Cluster 2 with affordable options or loyalty programs to boost their spending, especially in MnFruits."
   ]
  },
  {
   "cell_type": "markdown",
   "id": "444cb43c-6716-4373-b37a-6a48c1d1e5f7",
   "metadata": {},
   "source": [
    "# Which demographic groups are more likely to respond to campaigns?"
   ]
  },
  {
   "cell_type": "code",
   "execution_count": 46,
   "id": "826a22e7-bbc7-485a-bfaa-c459aadde163",
   "metadata": {},
   "outputs": [
    {
     "name": "stdout",
     "output_type": "stream",
     "text": [
      "Education                  education_2n Cycle  education_Basic  education_Graduation  education_Master  education_PhD\n",
      "AgeGroup MaritalStatus                                                                                               \n",
      "20-30    marital_Married             0.333333              0.0              0.111111          0.000000       0.000000\n",
      "         marital_Single              0.250000              0.0              0.470588          0.500000       1.000000\n",
      "         marital_Together            0.000000              0.0              0.000000          0.000000       0.000000\n",
      "30-40    marital_Divorced            0.000000              0.0              0.250000          0.333333       1.000000\n",
      "         marital_Married             0.190476              0.0              0.126761          0.176471       0.285714\n",
      "         marital_Single              0.153846              0.0              0.170213          0.461538       0.555556\n",
      "         marital_Together            0.076923              0.0              0.204545          0.000000       0.083333\n",
      "40-50    marital_Divorced            0.333333              0.0              0.186047          0.250000       0.230769\n",
      "         marital_Married             0.000000              0.0              0.090909          0.166667       0.190476\n",
      "         marital_Single              0.111111              0.0              0.200000          0.238095       0.259259\n",
      "         marital_Together            0.086957              0.4              0.089744          0.125000       0.121212\n",
      "         marital_Widow               0.000000              0.0              0.125000          0.000000       0.000000\n",
      "50-60    marital_Divorced            0.200000              0.0              0.172414          0.100000       0.350000\n",
      "         marital_Married             0.000000              0.0              0.089744          0.000000       0.166667\n",
      "         marital_Single              0.500000              0.0              0.163265          0.111111       0.142857\n",
      "         marital_Together            0.000000              0.0              0.083333          0.130435       0.120000\n",
      "         marital_Widow               0.000000              0.0              0.375000          0.500000       0.333333\n",
      "60+      marital_Divorced            0.166667              0.0              0.062500          0.125000       0.307692\n",
      "         marital_Married             0.272727              0.0              0.109890          0.085714       0.106383\n",
      "         marital_Single              0.000000              0.0              0.311111          0.142857       0.280000\n",
      "         marital_Together            0.000000              0.0              0.092308          0.151515       0.121212\n",
      "         marital_Widow               0.000000              0.0              0.133333          0.444444       0.333333\n"
     ]
    }
   ],
   "source": [
    "# Categorize age into groups\n",
    "df['AgeGroup'] = pd.cut(df['Age'], bins=[20, 30, 40, 50, 60, 80], labels=['20-30', '30-40', '40-50', '50-60', '60+'])\n",
    "\n",
    "# Create MaritalStatus column\n",
    "marital_cols = ['marital_Divorced', 'marital_Married', 'marital_Single', 'marital_Together', 'marital_Widow']\n",
    "df['MaritalStatus'] = df[marital_cols].idxmax(axis=1)\n",
    "\n",
    "# Create Education column\n",
    "education_cols = ['education_2n Cycle', 'education_Basic', 'education_Graduation', 'education_Master', 'education_PhD']\n",
    "df['Education'] = df[education_cols].idxmax(axis=1)\n",
    "\n",
    "# Calculate response rate by demographics with observed=True to avoid the warning\n",
    "response_by_demo = df.groupby(['AgeGroup', 'MaritalStatus', 'Education'], observed=True)['Response'].mean().unstack()\n",
    "\n",
    "# Fill NaN values with 0 for clarity\n",
    "response_by_demo = response_by_demo.fillna(0)\n",
    "\n",
    "# Display the result in a well-arranged format\n",
    "print(response_by_demo.to_string())"
   ]
  },
  {
   "cell_type": "code",
   "execution_count": 47,
   "id": "a0d4eea8-d696-4eb0-bc82-2ad6a9ba4395",
   "metadata": {},
   "outputs": [
    {
     "data": {
      "image/png": "[encoded data removed]",
      "text/plain": [
       "<Figure size 640x480 with 2 Axes>"
      ]
     },
     "metadata": {},
     "output_type": "display_data"
    }
   ],
   "source": [
    "sns.heatmap(response_by_demo, annot=True, cmap='Greens')\n",
    "plt.title('Campaign Response Rate by Demographics')\n",
    "plt.show()"
   ]
  },
  {
   "cell_type": "markdown",
   "id": "478504c3-6209-4649-8df7-8c61a1e338c5",
   "metadata": {},
   "source": [
    "# Based on the data and heatmap, the demographic groups most likely to respond to campaigns are:"
   ]
  },
  {
   "cell_type": "markdown",
   "id": "3710f3e7-ac68-4437-bfe2-13dc103cea4c",
   "metadata": {},
   "source": [
    "Highest response rates: \n",
    "\n",
    "20-30 single PhD (1.0)\n",
    "\n",
    "40-50 together 2n Cycle (0.4)\n",
    "\n",
    "30-40 divorced Master (0.333)\n",
    "\n",
    "60+ widow Master (0.444)."
   ]
  },
  {
   "cell_type": "markdown",
   "id": "034fa329-1269-46a8-8494-84f55e3c817f",
   "metadata": {},
   "source": [
    "### Insights "
   ]
  },
  {
   "cell_type": "markdown",
   "id": "2fe5a3b5-85d0-49d8-b322-70a892efb63d",
   "metadata": {},
   "source": [
    "Young single PhDs (20-30) and older widows with Master’s (60+) show strong responses.\n",
    "\n",
    "Middle-aged divorced (30-40) with advanced degrees and 40-50 together with 2n Cycle are responsive.\n",
    "\n",
    "Low response rates in 50-60 groups and those with Basic education."
   ]
  },
  {
   "cell_type": "markdown",
   "id": "1e1ca640-b8da-4ae8-b100-301745add22d",
   "metadata": {},
   "source": [
    "# Recommendations"
   ]
  },
  {
   "cell_type": "markdown",
   "id": "73529b65-60cb-4a04-93f3-9d7c81e20b23",
   "metadata": {},
   "source": [
    "Target 20-30 single PhDs, 60+ widows with Master’s, and 30-40 divorced with advanced degrees.\n",
    "\n",
    "Test campaigns for 40-50 \"together\" with 2n Cycle.\n",
    "\n",
    "Avoid or adjust strategies for low-response 50-60 and Basic education groups.\n",
    "\n",
    "Validate small-sample trends (e.g., 20-30 PhDs) with more data.\n",
    "\n",
    "Personalize campaigns based on demographic insights."
   ]
  },
  {
   "cell_type": "markdown",
   "id": "3977b26a-fabf-4041-8d23-aeb007010a98",
   "metadata": {},
   "source": [
    "# What is the relationship between recency and total spending?"
   ]
  },
  {
   "cell_type": "code",
   "execution_count": 48,
   "id": "9327e384-1214-4266-a87f-b7d8f2ddb5d2",
   "metadata": {},
   "outputs": [
    {
     "name": "stdout",
     "output_type": "stream",
     "text": [
      "Correlation between Recency and Total Spending: 0.013582674862647325\n"
     ]
    }
   ],
   "source": [
    "correlation = df['Recency'].corr(df['MntTotal'])\n",
    "print(f\"Correlation between Recency and Total Spending: {correlation}\")"
   ]
  },
  {
   "cell_type": "code",
   "execution_count": 49,
   "id": "a03f1c6b-1828-4e36-8c78-78fbfa15fe7a",
   "metadata": {},
   "outputs": [
    {
     "data": {
      "image/png": "[encoded data removed]",
      "text/plain": [
       "<Figure size 640x480 with 1 Axes>"
      ]
     },
     "metadata": {},
     "output_type": "display_data"
    }
   ],
   "source": [
    "sns.scatterplot(x='Recency', y='MntTotal', data=df)\n",
    "plt.title('Recency vs Total Spending')\n",
    "plt.show()"
   ]
  },
  {
   "cell_type": "markdown",
   "id": "58413ad0-a3d0-42d8-a1a9-1c2180ee25e4",
   "metadata": {},
   "source": [
    "### Relationship Between Recency and Total Spending:"
   ]
  },
  {
   "cell_type": "code",
   "execution_count": null,
   "id": "9f294b84-8f5d-4344-938b-2fb49880fd1c",
   "metadata": {},
   "outputs": [],
   "source": [
    "Correlation: 0.0136 (very weak positive correlation).\n",
    "\n",
    "Scatterplot shows no clear pattern; data points are widely dispersed."
   ]
  },
  {
   "cell_type": "markdown",
   "id": "9e559720-690c-4eab-a9e7-e01d0b13a613",
   "metadata": {},
   "source": [
    "### Insights"
   ]
  },
  {
   "cell_type": "code",
   "execution_count": null,
   "id": "83b101f2-6235-4f44-a9f5-db9df8ec9d70",
   "metadata": {},
   "outputs": [],
   "source": [
    "Recency (time since last interaction) has almost no linear relationship with total spending (MntTotal).\n",
    "\n",
    "Customers with varying recency (0-100) show similar spending patterns, with most spending between 0-1500.\n",
    "\n",
    "No strong trend indicates recency alone isn’t a reliable predictor of spending."
   ]
  },
  {
   "cell_type": "markdown",
   "id": "daf1fb50-f79a-4b34-905f-018e45addb73",
   "metadata": {},
   "source": [
    "### Recommendations"
   ]
  },
  {
   "cell_type": "code",
   "execution_count": null,
   "id": "a0ae372a-6306-45d4-a6df-fe49543c21e4",
   "metadata": {},
   "outputs": [],
   "source": [
    "Don’t prioritize recency as a key factor for predicting or targeting high spenders.\n",
    "    \n",
    "Focus on other variables (e.g., demographics, as seen in prior analysis) to identify high-value customers.\n",
    "    \n",
    "Test recency combined with other factors (e.g., frequency or demographics) to uncover potential patterns.\n",
    "    \n",
    "Optimize campaigns for high-response groups (e.g., 20-30 singles, 40-60 singles with Master’s/PhD) rather than recency-based segments."
   ]
  },
  {
   "cell_type": "markdown",
   "id": "7e1a2b1a-2c9a-4a70-8a24-8f11ea17823f",
   "metadata": {},
   "source": [
    "# Which channels  are more successful in campaign acceptance?"
   ]
  },
  {
   "cell_type": "code",
   "execution_count": 50,
   "id": "d7a8f51f-a23a-466f-9404-f678dd213ae6",
   "metadata": {},
   "outputs": [
    {
     "name": "stdout",
     "output_type": "stream",
     "text": [
      "DominantChannel\n",
      "NumCatalogPurchases    0.671429\n",
      "NumStorePurchases      0.264506\n",
      "NumWebPurchases        0.299639\n",
      "Name: AcceptedCmpOverall, dtype: float64\n"
     ]
    }
   ],
   "source": [
    "# Determine the dominant channel for each customer\n",
    "df['DominantChannel'] = df[['NumWebPurchases', 'NumCatalogPurchases', 'NumStorePurchases']].idxmax(axis=1)\n",
    "# Calculate acceptance rate by channel\n",
    "acceptance_by_channel = df.groupby('DominantChannel')['AcceptedCmpOverall'].mean()\n",
    "print(acceptance_by_channel)"
   ]
  },
  {
   "cell_type": "code",
   "execution_count": 51,
   "id": "a2adb360-07f9-4998-8087-61bc19248a55",
   "metadata": {},
   "outputs": [
    {
     "data": {
      "image/png": "[encoded data removed]",
      "text/plain": [
       "<Figure size 640x480 with 1 Axes>"
      ]
     },
     "metadata": {},
     "output_type": "display_data"
    }
   ],
   "source": [
    "acceptance_by_channel.plot(kind='bar', color='teal')\n",
    "plt.title('Campaign Acceptance by Purchase Channel')\n",
    "plt.ylabel('Average Campaign Acceptance')\n",
    "plt.show()"
   ]
  },
  {
   "cell_type": "markdown",
   "id": "8b05819b-7630-40e2-ae72-b01ef8b1acd1",
   "metadata": {},
   "source": [
    "### Most Successful Channels for Campaign Acceptance"
   ]
  },
  {
   "cell_type": "code",
   "execution_count": null,
   "id": "9c84c7c1-1285-4c38-aff3-027ebce7b78e",
   "metadata": {},
   "outputs": [],
   "source": [
    "Catalog: 0.57 (highest)\n",
    "\n",
    "Web: 0.31\n",
    "\n",
    "Store: 0.29"
   ]
  },
  {
   "cell_type": "markdown",
   "id": "e1017cd0-00b9-4a07-a709-8ff9a786a258",
   "metadata": {},
   "source": [
    "### Insights"
   ]
  },
  {
   "cell_type": "code",
   "execution_count": null,
   "id": "f988987b-447a-44e6-a492-cced5c82bfa3",
   "metadata": {},
   "outputs": [],
   "source": [
    "Catalog campaigns have the highest acceptance rate (0.57), significantly outperforming other channels.\n",
    "    \n",
    "Web and Store channels have similar, moderate acceptance rates (0.31 and 0.29, respectively).\n",
    "    \n",
    "Catalog is the dominant channel for driving campaign success."
   ]
  },
  {
   "cell_type": "markdown",
   "id": "726908c9-7e6e-4217-bb04-83863bb67b81",
   "metadata": {},
   "source": [
    "### Recommendations"
   ]
  },
  {
   "cell_type": "code",
   "execution_count": null,
   "id": "c4f380a1-cb30-44e2-a6d9-2949ec632c54",
   "metadata": {},
   "outputs": [],
   "source": [
    "Prioritize Catalog campaigns to maximize acceptance rates.\n",
    "    \n",
    "Allocate more resources to Catalog marketing while maintaining moderate efforts in Web and Store channels.\n",
    "    \n",
    "Test and optimize Web and Store campaigns to potentially improve their performance.\n",
    "    \n",
    "Combine Catalog campaigns with high-response demographics (e.g., 20-30 singles, 40-60 singles with Master’s/PhD) for better results."
   ]
  },
  {
   "cell_type": "markdown",
   "id": "d65f0601-1957-4b63-acb8-4ac0b20650cf",
   "metadata": {},
   "source": [
    "#  Which product categories have the highest average spend per income bracket?"
   ]
  },
  {
   "cell_type": "code",
   "execution_count": 52,
   "id": "24c46b3f-c58e-42e2-a025-8d5cf10819eb",
   "metadata": {},
   "outputs": [
    {
     "name": "stdout",
     "output_type": "stream",
     "text": [
      "               MntWines  MntFruits  MntMeatProducts  MntFishProducts  \\\n",
      "IncomeGroup                                                            \n",
      "Low           22.027668   5.950593        23.399209         8.664032   \n",
      "Mid-Low      125.835644   8.067327        47.873267        13.239604   \n",
      "High         434.409901  30.245545       157.455446        38.895050   \n",
      "Mid-High     644.259406  61.235644       435.794059        89.673267   \n",
      "\n",
      "             MntSweetProducts  MntGoldProds  \n",
      "IncomeGroup                                  \n",
      "Low                  5.970356     17.286561  \n",
      "Mid-Low              8.469307     28.089109  \n",
      "High                28.241584     58.360396  \n",
      "Mid-High            66.435644     72.003960  \n"
     ]
    }
   ],
   "source": [
    "spending_by_income = df.groupby('IncomeGroup', observed=True)[['MntWines', 'MntFruits', 'MntMeatProducts', 'MntFishProducts', 'MntSweetProducts', 'MntGoldProds']].mean()\n",
    "print(spending_by_income)"
   ]
  },
  {
   "cell_type": "code",
   "execution_count": 53,
   "id": "a850e636-958c-4ed5-87e4-0bfa81793507",
   "metadata": {},
   "outputs": [
    {
     "data": {
      "image/png": "[encoded data removed]",
      "text/plain": [
       "<Figure size 640x480 with 1 Axes>"
      ]
     },
     "metadata": {},
     "output_type": "display_data"
    }
   ],
   "source": [
    "spending_by_income.plot(kind='bar')\n",
    "plt.title('Average Spend by Product Category per Income Bracket')\n",
    "plt.ylabel('Average Spend')\n",
    "plt.show()"
   ]
  },
  {
   "cell_type": "markdown",
   "id": "90c82802-f361-4059-bb08-ea2b3f197c7e",
   "metadata": {},
   "source": [
    "### Categories with Highest Average Spend per Income Bracket:"
   ]
  },
  {
   "cell_type": "code",
   "execution_count": null,
   "id": "23176a3b-cdb9-435b-85ac-c49663657fe0",
   "metadata": {},
   "outputs": [],
   "source": [
    "High Income:\n",
    "MntWines: 644.29 (highest overall)\n",
    "MntMeatProducts: 435.79\n",
    "\n",
    "Mid-High Income:\n",
    "MntWines: 444.99\n",
    "MntMeatProducts: 157.45\n",
    "\n",
    "Mid-Low Income:\n",
    "MntWines: 125.83\n",
    "MntMeatProducts: 47.87\n",
    "\n",
    "Low Income:\n",
    "MntWines: 22.80\n",
    "MntMeatProducts: 8.94"
   ]
  },
  {
   "cell_type": "markdown",
   "id": "0ed06d6a-24c6-41ab-ad40-1d1c5d171a46",
   "metadata": {},
   "source": [
    "### Insights"
   ]
  },
  {
   "cell_type": "code",
   "execution_count": null,
   "id": "a32e93a7-9c0c-4215-9620-d37dfd22d464",
   "metadata": {},
   "outputs": [],
   "source": [
    "MntWines consistently has the highest average spend across all income brackets, peaking in High income (644.29).\n",
    "\n",
    "MntMeatProducts follows as the second-highest spend category, especially in High (435.79) and Mid-High (157.45) brackets.\n",
    "    \n",
    "Spending on all categories (Wines, Fruits, Meat, Fish, Sweets, Gold) increases with income, with the largest gaps in Wines and Meat.\n",
    "    \n",
    "Low and Mid-Low income groups spend significantly less across all categories."
   ]
  },
  {
   "cell_type": "markdown",
   "id": "f20c7d52-e408-49b8-b7fc-b473cab55523",
   "metadata": {},
   "source": [
    "### Recommendations"
   ]
  },
  {
   "cell_type": "code",
   "execution_count": null,
   "id": "91dfcbc2-1773-4fa0-817c-098e12b071e4",
   "metadata": {},
   "outputs": [],
   "source": [
    "Focus marketing on MntWines and MntMeatProducts, especially for High and Mid-High income groups, as they drive the most spend.\n",
    "\n",
    "Tailor promotions for Wines and Meat to High-income customers (e.g., premium offerings) to maximize revenue.\n",
    "    \n",
    "For Mid-Low and Low-income groups, offer budget-friendly options or smaller packages for Wines and Meat to encourage spending.\n",
    "\n",
    "Combine with high-response demographics (e.g., 20-30 singles, 40-60 singles with Master’s/PhD) and Catalog campaigns for better targeting."
   ]
  },
  {
   "cell_type": "markdown",
   "id": "2d8096b8-422e-4806-9e2a-306142324625",
   "metadata": {},
   "source": [
    "#  Is there a relationship between education level and category-specific product preferences?"
   ]
  },
  {
   "cell_type": "code",
   "execution_count": 54,
   "id": "e0037e22-4a29-4445-a9da-703d7ff1c245",
   "metadata": {},
   "outputs": [
    {
     "name": "stdout",
     "output_type": "stream",
     "text": [
      "                        MntWines  MntFruits  MntMeatProducts  MntFishProducts  \\\n",
      "Education                                                                       \n",
      "education_2n Cycle    206.262295  29.316940       136.076503        46.628415   \n",
      "education_Basic         7.795918  11.204082        11.816327        17.734694   \n",
      "education_Graduation  285.148768  31.301478       181.421675        43.929064   \n",
      "education_Master      338.361194  21.940299       165.570149        32.080597   \n",
      "education_PhD         406.642369  18.788155       160.630979        25.649203   \n",
      "\n",
      "                      MntSweetProducts  MntGoldProds  \n",
      "Education                                             \n",
      "education_2n Cycle           35.289617     46.934426  \n",
      "education_Basic              12.612245     22.755102  \n",
      "education_Graduation         31.729064     50.467980  \n",
      "education_Master             21.277612     40.665672  \n",
      "education_PhD                19.820046     32.378132  \n"
     ]
    }
   ],
   "source": [
    "# Group by Education and calculate mean spend\n",
    "spending_by_education = df.groupby('Education')[['MntWines', 'MntFruits', 'MntMeatProducts', 'MntFishProducts', 'MntSweetProducts', 'MntGoldProds']].mean()\n",
    "print(spending_by_education)"
   ]
  },
  {
   "cell_type": "code",
   "execution_count": 55,
   "id": "309e3602-1352-4711-a677-08cc51d076d6",
   "metadata": {},
   "outputs": [
    {
     "data": {
      "image/png": "[encoded data removed]",
      "text/plain": [
       "<Figure size 640x480 with 2 Axes>"
      ]
     },
     "metadata": {},
     "output_type": "display_data"
    }
   ],
   "source": [
    "sns.heatmap(spending_by_education, annot=True, cmap='Purples')\n",
    "plt.title('Spending by Education Level Across Categories')\n",
    "plt.show()"
   ]
  },
  {
   "cell_type": "markdown",
   "id": "11189704-a8cb-4a28-948b-4d633750fb63",
   "metadata": {},
   "source": [
    "### Relationship Between Education Level and Category-Specific Preferences"
   ]
  },
  {
   "cell_type": "code",
   "execution_count": null,
   "id": "0b603ce3-d5da-4fba-8680-29c461078260",
   "metadata": {},
   "outputs": [],
   "source": [
    "PhD: MntWines (486.42), MntMeatProducts (166.63)\n",
    "\n",
    "Master’s: MntWines (336.31), MntMeatProducts (165.57)\n",
    "\n",
    "Graduation: MntWines (285.14), MntMeatProducts (181.41)\n",
    "\n",
    "Basic: MntWines (77.99), MntMeatProducts (11.81)\n",
    "\n",
    "Zn Cycle: MntWines (266.22), MntMeatProducts (136.87)"
   ]
  },
  {
   "cell_type": "markdown",
   "id": "04c99661-6d01-4ac9-a2a1-0186909c4bb1",
   "metadata": {},
   "source": [
    "### Insights"
   ]
  },
  {
   "cell_type": "code",
   "execution_count": null,
   "id": "1be1cfc2-1c68-4aca-ac6b-566e2ce92889",
   "metadata": {},
   "outputs": [],
   "source": [
    "MntWines and MntMeatProducts are the top spending categories across all education levels.\n",
    "\n",
    "Higher education (PhD, Master’s, Graduation) correlates with significantly higher spending on Wines and Meat compared to Basic and Zn Cycle.\n",
    "\n",
    "Basic education has the lowest spending across all categories, especially on Meat (11.81).\n",
    "\n",
    "Zn Cycle shows moderate spending, with a notable preference for Wines (266.22)."
   ]
  },
  {
   "cell_type": "markdown",
   "id": "329dcf4b-de29-4c06-b076-590a89458907",
   "metadata": {},
   "source": [
    "### Recommendations"
   ]
  },
  {
   "cell_type": "code",
   "execution_count": null,
   "id": "72ffd55b-2b2d-4b41-a5ae-7e751dee711d",
   "metadata": {},
   "outputs": [],
   "source": [
    "Target higher-educated groups (PhD, Master’s, Graduation) with premium Wines and Meat products, as they spend the most.\n",
    "    \n",
    "For Zn Cycle, focus on Wines and Meat but offer more affordable options to match their spending patterns.\n",
    "    \n",
    "Avoid heavy investment in Basic education groups for high-value categories like Meat; instead, promote lower-cost items like Fruits or Sweets.\n",
    "    \n",
    "Combine with Catalog campaigns and high-response demographics (e.g., 40-60 singles with Master’s/PhD) to maximize impact."
   ]
  },
  {
   "cell_type": "markdown",
   "id": "53341df8-aef1-4dbc-b04d-a8d4b56ac930",
   "metadata": {},
   "source": [
    "# Who are the top 10% customers by lifetime value (total spend), and what do they have in common?"
   ]
  },
  {
   "cell_type": "code",
   "execution_count": 56,
   "id": "4a67e25a-f3b4-42ec-913d-e6c0977c41b0",
   "metadata": {},
   "outputs": [
    {
     "name": "stdout",
     "output_type": "stream",
     "text": [
      "              Income         Age  TotalChildren  AcceptedCmpOverall\n",
      "count     202.000000  202.000000     202.000000          202.000000\n",
      "mean    78772.143564   51.915842       0.232673            1.123762\n",
      "std     10547.219060   12.936425       0.518630            1.119492\n",
      "min      2447.000000   26.000000       0.000000            0.000000\n",
      "25%     72919.250000   42.250000       0.000000            0.000000\n",
      "50%     79513.000000   51.000000       0.000000            1.000000\n",
      "75%     84505.750000   62.000000       0.000000            2.000000\n",
      "max    105471.000000   79.000000       3.000000            4.000000\n"
     ]
    }
   ],
   "source": [
    "# Identify the top 10% by MntTotal\n",
    "top_10_percent = df.nlargest(int(len(df) * 0.1), 'MntTotal')\n",
    "# Analyze common traits\n",
    "top_10_summary = top_10_percent[['Income', 'Age', 'TotalChildren', 'Education', 'MaritalStatus', 'AcceptedCmpOverall']].describe()\n",
    "print(top_10_summary)"
   ]
  },
  {
   "cell_type": "markdown",
   "id": "c6241e9c-a7bb-44be-9f1f-c9f262d994a6",
   "metadata": {},
   "source": [
    "### Top 10% Customers by Lifetime Value (MntTotal)"
   ]
  },
  {
   "cell_type": "markdown",
   "id": "1c059868-176f-4633-91ce-7eb9eb649153",
   "metadata": {},
   "source": [
    "Common Traits:\n",
    "\n",
    "Income: Mean 78,772 (high), STD 21,960\n",
    "\n",
    "Age: Mean 51.92, STD 12.94\n",
    "\n",
    "Total Children: Mean 0.24, STD 0.58 (mostly no children)\n",
    "\n",
    "AcceptedCmpOverall: Mean 1.12, STD 1.19 (most accepted at least one campaign)\n"
   ]
  },
  {
   "cell_type": "markdown",
   "id": "815d110c-6b89-44f0-a063-a45be3950af1",
   "metadata": {},
   "source": [
    "### Insights"
   ]
  },
  {
   "cell_type": "code",
   "execution_count": null,
   "id": "be24dbad-6622-4bef-a5e3-8af4595513a5",
   "metadata": {},
   "outputs": [],
   "source": [
    "Top spenders are high-income (avg. 78,772), middle-aged (avg. 51.92), with few or no children (avg. 0.24).\n",
    "\n",
    "They tend to accept campaigns (avg. 1.12 accepted), indicating responsiveness to marketing.\n",
    "    \n",
    "Age and income have moderate variability, suggesting a somewhat diverse but focused group."
   ]
  },
  {
   "cell_type": "markdown",
   "id": "056868a2-0498-4c83-b97a-a6ea9b140fac",
   "metadata": {},
   "source": [
    "### Recommendations"
   ]
  },
  {
   "cell_type": "code",
   "execution_count": null,
   "id": "83ac621c-6603-4b5a-97b2-dca9ff534169",
   "metadata": {},
   "outputs": [],
   "source": [
    "Target high-income, middle-aged customers (40-60) with no children for premium products (e.g., Wines, Meat).\n",
    "                                                                  \n",
    "Leverage their campaign responsiveness with Catalog campaigns, as they’re most effective (0.57 acceptance rate).\n",
    "                                                                  \n",
    "Focus on 40-60 singles with Master’s/PhD (from prior analysis) within this group for maximum impact.\n",
    "                                                                                \n",
    "Offer personalized, high-value promotions to maintain their engagement."
   ]
  },
  {
   "cell_type": "markdown",
   "id": "f78005ec-a6af-4ce8-b0a1-ad01b26c13a9",
   "metadata": {},
   "source": [
    "# What factors most influence high spending on premium products (e.g., MntGoldProds)?"
   ]
  },
  {
   "cell_type": "code",
   "execution_count": 57,
   "id": "6884be6b-c625-4e64-ae78-9c088647a4e7",
   "metadata": {},
   "outputs": [],
   "source": [
    "# Prepare features and target\n",
    "from sklearn.linear_model import LinearRegression\n",
    "from sklearn.model_selection import train_test_split\n",
    "features = ['Income', 'Age', 'TotalChildren', 'AcceptedCmpOverall']\n",
    "education_dummies = pd.get_dummies(df['Education'], prefix='Education')\n",
    "df = pd.concat([df, education_dummies], axis=1)\n",
    "features.extend(education_dummies.columns)\n",
    "X = df[features]\n",
    "y = df['MntGoldProds']"
   ]
  },
  {
   "cell_type": "code",
   "execution_count": 58,
   "id": "99ee0520-c8ce-4163-b4cc-0b63d894057e",
   "metadata": {},
   "outputs": [
    {
     "data": {
      "text/html": [
       "<style>#sk-container-id-1 {\n",
       "  /* Definition of color scheme common for light and dark mode */\n",
       "  --sklearn-color-text: black;\n",
       "  --sklearn-color-line: gray;\n",
       "  /* Definition of color scheme for unfitted estimators */\n",
       "  --sklearn-color-unfitted-level-0: #fff5e6;\n",
       "  --sklearn-color-unfitted-level-1: #f6e4d2;\n",
       "  --sklearn-color-unfitted-level-2: #ffe0b3;\n",
       "  --sklearn-color-unfitted-level-3: chocolate;\n",
       "  /* Definition of color scheme for fitted estimators */\n",
       "  --sklearn-color-fitted-level-0: #f0f8ff;\n",
       "  --sklearn-color-fitted-level-1: #d4ebff;\n",
       "  --sklearn-color-fitted-level-2: #b3dbfd;\n",
       "  --sklearn-color-fitted-level-3: cornflowerblue;\n",
       "\n",
       "  /* Specific color for light theme */\n",
       "  --sklearn-color-text-on-default-background: var(--sg-text-color, var(--theme-code-foreground, var(--jp-content-font-color1, black)));\n",
       "  --sklearn-color-background: var(--sg-background-color, var(--theme-background, var(--jp-layout-color0, white)));\n",
       "  --sklearn-color-border-box: var(--sg-text-color, var(--theme-code-foreground, var(--jp-content-font-color1, black)));\n",
       "  --sklearn-color-icon: #696969;\n",
       "\n",
       "  @media (prefers-color-scheme: dark) {\n",
       "    /* Redefinition of color scheme for dark theme */\n",
       "    --sklearn-color-text-on-default-background: var(--sg-text-color, var(--theme-code-foreground, var(--jp-content-font-color1, white)));\n",
       "    --sklearn-color-background: var(--sg-background-color, var(--theme-background, var(--jp-layout-color0, #111)));\n",
       "    --sklearn-color-border-box: var(--sg-text-color, var(--theme-code-foreground, var(--jp-content-font-color1, white)));\n",
       "    --sklearn-color-icon: #878787;\n",
       "  }\n",
       "}\n",
       "\n",
       "#sk-container-id-1 {\n",
       "  color: var(--sklearn-color-text);\n",
       "}\n",
       "\n",
       "#sk-container-id-1 pre {\n",
       "  padding: 0;\n",
       "}\n",
       "\n",
       "#sk-container-id-1 input.sk-hidden--visually {\n",
       "  border: 0;\n",
       "  clip: rect(1px 1px 1px 1px);\n",
       "  clip: rect(1px, 1px, 1px, 1px);\n",
       "  height: 1px;\n",
       "  margin: -1px;\n",
       "  overflow: hidden;\n",
       "  padding: 0;\n",
       "  position: absolute;\n",
       "  width: 1px;\n",
       "}\n",
       "\n",
       "#sk-container-id-1 div.sk-dashed-wrapped {\n",
       "  border: 1px dashed var(--sklearn-color-line);\n",
       "  margin: 0 0.4em 0.5em 0.4em;\n",
       "  box-sizing: border-box;\n",
       "  padding-bottom: 0.4em;\n",
       "  background-color: var(--sklearn-color-background);\n",
       "}\n",
       "\n",
       "#sk-container-id-1 div.sk-container {\n",
       "  /* jupyter's `normalize.less` sets `[hidden] { display: none; }`\n",
       "     but bootstrap.min.css set `[hidden] { display: none !important; }`\n",
       "     so we also need the `!important` here to be able to override the\n",
       "     default hidden behavior on the sphinx rendered scikit-learn.org.\n",
       "     See: https://github.com/scikit-learn/scikit-learn/issues/21755 */\n",
       "  display: inline-block !important;\n",
       "  position: relative;\n",
       "}\n",
       "\n",
       "#sk-container-id-1 div.sk-text-repr-fallback {\n",
       "  display: none;\n",
       "}\n",
       "\n",
       "div.sk-parallel-item,\n",
       "div.sk-serial,\n",
       "div.sk-item {\n",
       "  /* draw centered vertical line to link estimators */\n",
       "  background-image: linear-gradient(var(--sklearn-color-text-on-default-background), var(--sklearn-color-text-on-default-background));\n",
       "  background-size: 2px 100%;\n",
       "  background-repeat: no-repeat;\n",
       "  background-position: center center;\n",
       "}\n",
       "\n",
       "/* Parallel-specific style estimator block */\n",
       "\n",
       "#sk-container-id-1 div.sk-parallel-item::after {\n",
       "  content: \"\";\n",
       "  width: 100%;\n",
       "  border-bottom: 2px solid var(--sklearn-color-text-on-default-background);\n",
       "  flex-grow: 1;\n",
       "}\n",
       "\n",
       "#sk-container-id-1 div.sk-parallel {\n",
       "  display: flex;\n",
       "  align-items: stretch;\n",
       "  justify-content: center;\n",
       "  background-color: var(--sklearn-color-background);\n",
       "  position: relative;\n",
       "}\n",
       "\n",
       "#sk-container-id-1 div.sk-parallel-item {\n",
       "  display: flex;\n",
       "  flex-direction: column;\n",
       "}\n",
       "\n",
       "#sk-container-id-1 div.sk-parallel-item:first-child::after {\n",
       "  align-self: flex-end;\n",
       "  width: 50%;\n",
       "}\n",
       "\n",
       "#sk-container-id-1 div.sk-parallel-item:last-child::after {\n",
       "  align-self: flex-start;\n",
       "  width: 50%;\n",
       "}\n",
       "\n",
       "#sk-container-id-1 div.sk-parallel-item:only-child::after {\n",
       "  width: 0;\n",
       "}\n",
       "\n",
       "/* Serial-specific style estimator block */\n",
       "\n",
       "#sk-container-id-1 div.sk-serial {\n",
       "  display: flex;\n",
       "  flex-direction: column;\n",
       "  align-items: center;\n",
       "  background-color: var(--sklearn-color-background);\n",
       "  padding-right: 1em;\n",
       "  padding-left: 1em;\n",
       "}\n",
       "\n",
       "\n",
       "/* Toggleable style: style used for estimator/Pipeline/ColumnTransformer box that is\n",
       "clickable and can be expanded/collapsed.\n",
       "- Pipeline and ColumnTransformer use this feature and define the default style\n",
       "- Estimators will overwrite some part of the style using the `sk-estimator` class\n",
       "*/\n",
       "\n",
       "/* Pipeline and ColumnTransformer style (default) */\n",
       "\n",
       "#sk-container-id-1 div.sk-toggleable {\n",
       "  /* Default theme specific background. It is overwritten whether we have a\n",
       "  specific estimator or a Pipeline/ColumnTransformer */\n",
       "  background-color: var(--sklearn-color-background);\n",
       "}\n",
       "\n",
       "/* Toggleable label */\n",
       "#sk-container-id-1 label.sk-toggleable__label {\n",
       "  cursor: pointer;\n",
       "  display: block;\n",
       "  width: 100%;\n",
       "  margin-bottom: 0;\n",
       "  padding: 0.5em;\n",
       "  box-sizing: border-box;\n",
       "  text-align: center;\n",
       "}\n",
       "\n",
       "#sk-container-id-1 label.sk-toggleable__label-arrow:before {\n",
       "  /* Arrow on the left of the label */\n",
       "  content: \"▸\";\n",
       "  float: left;\n",
       "  margin-right: 0.25em;\n",
       "  color: var(--sklearn-color-icon);\n",
       "}\n",
       "\n",
       "#sk-container-id-1 label.sk-toggleable__label-arrow:hover:before {\n",
       "  color: var(--sklearn-color-text);\n",
       "}\n",
       "\n",
       "/* Toggleable content - dropdown */\n",
       "\n",
       "#sk-container-id-1 div.sk-toggleable__content {\n",
       "  max-height: 0;\n",
       "  max-width: 0;\n",
       "  overflow: hidden;\n",
       "  text-align: left;\n",
       "  /* unfitted */\n",
       "  background-color: var(--sklearn-color-unfitted-level-0);\n",
       "}\n",
       "\n",
       "#sk-container-id-1 div.sk-toggleable__content.fitted {\n",
       "  /* fitted */\n",
       "  background-color: var(--sklearn-color-fitted-level-0);\n",
       "}\n",
       "\n",
       "#sk-container-id-1 div.sk-toggleable__content pre {\n",
       "  margin: 0.2em;\n",
       "  border-radius: 0.25em;\n",
       "  color: var(--sklearn-color-text);\n",
       "  /* unfitted */\n",
       "  background-color: var(--sklearn-color-unfitted-level-0);\n",
       "}\n",
       "\n",
       "#sk-container-id-1 div.sk-toggleable__content.fitted pre {\n",
       "  /* unfitted */\n",
       "  background-color: var(--sklearn-color-fitted-level-0);\n",
       "}\n",
       "\n",
       "#sk-container-id-1 input.sk-toggleable__control:checked~div.sk-toggleable__content {\n",
       "  /* Expand drop-down */\n",
       "  max-height: 200px;\n",
       "  max-width: 100%;\n",
       "  overflow: auto;\n",
       "}\n",
       "\n",
       "#sk-container-id-1 input.sk-toggleable__control:checked~label.sk-toggleable__label-arrow:before {\n",
       "  content: \"▾\";\n",
       "}\n",
       "\n",
       "/* Pipeline/ColumnTransformer-specific style */\n",
       "\n",
       "#sk-container-id-1 div.sk-label input.sk-toggleable__control:checked~label.sk-toggleable__label {\n",
       "  color: var(--sklearn-color-text);\n",
       "  background-color: var(--sklearn-color-unfitted-level-2);\n",
       "}\n",
       "\n",
       "#sk-container-id-1 div.sk-label.fitted input.sk-toggleable__control:checked~label.sk-toggleable__label {\n",
       "  background-color: var(--sklearn-color-fitted-level-2);\n",
       "}\n",
       "\n",
       "/* Estimator-specific style */\n",
       "\n",
       "/* Colorize estimator box */\n",
       "#sk-container-id-1 div.sk-estimator input.sk-toggleable__control:checked~label.sk-toggleable__label {\n",
       "  /* unfitted */\n",
       "  background-color: var(--sklearn-color-unfitted-level-2);\n",
       "}\n",
       "\n",
       "#sk-container-id-1 div.sk-estimator.fitted input.sk-toggleable__control:checked~label.sk-toggleable__label {\n",
       "  /* fitted */\n",
       "  background-color: var(--sklearn-color-fitted-level-2);\n",
       "}\n",
       "\n",
       "#sk-container-id-1 div.sk-label label.sk-toggleable__label,\n",
       "#sk-container-id-1 div.sk-label label {\n",
       "  /* The background is the default theme color */\n",
       "  color: var(--sklearn-color-text-on-default-background);\n",
       "}\n",
       "\n",
       "/* On hover, darken the color of the background */\n",
       "#sk-container-id-1 div.sk-label:hover label.sk-toggleable__label {\n",
       "  color: var(--sklearn-color-text);\n",
       "  background-color: var(--sklearn-color-unfitted-level-2);\n",
       "}\n",
       "\n",
       "/* Label box, darken color on hover, fitted */\n",
       "#sk-container-id-1 div.sk-label.fitted:hover label.sk-toggleable__label.fitted {\n",
       "  color: var(--sklearn-color-text);\n",
       "  background-color: var(--sklearn-color-fitted-level-2);\n",
       "}\n",
       "\n",
       "/* Estimator label */\n",
       "\n",
       "#sk-container-id-1 div.sk-label label {\n",
       "  font-family: monospace;\n",
       "  font-weight: bold;\n",
       "  display: inline-block;\n",
       "  line-height: 1.2em;\n",
       "}\n",
       "\n",
       "#sk-container-id-1 div.sk-label-container {\n",
       "  text-align: center;\n",
       "}\n",
       "\n",
       "/* Estimator-specific */\n",
       "#sk-container-id-1 div.sk-estimator {\n",
       "  font-family: monospace;\n",
       "  border: 1px dotted var(--sklearn-color-border-box);\n",
       "  border-radius: 0.25em;\n",
       "  box-sizing: border-box;\n",
       "  margin-bottom: 0.5em;\n",
       "  /* unfitted */\n",
       "  background-color: var(--sklearn-color-unfitted-level-0);\n",
       "}\n",
       "\n",
       "#sk-container-id-1 div.sk-estimator.fitted {\n",
       "  /* fitted */\n",
       "  background-color: var(--sklearn-color-fitted-level-0);\n",
       "}\n",
       "\n",
       "/* on hover */\n",
       "#sk-container-id-1 div.sk-estimator:hover {\n",
       "  /* unfitted */\n",
       "  background-color: var(--sklearn-color-unfitted-level-2);\n",
       "}\n",
       "\n",
       "#sk-container-id-1 div.sk-estimator.fitted:hover {\n",
       "  /* fitted */\n",
       "  background-color: var(--sklearn-color-fitted-level-2);\n",
       "}\n",
       "\n",
       "/* Specification for estimator info (e.g. \"i\" and \"?\") */\n",
       "\n",
       "/* Common style for \"i\" and \"?\" */\n",
       "\n",
       ".sk-estimator-doc-link,\n",
       "a:link.sk-estimator-doc-link,\n",
       "a:visited.sk-estimator-doc-link {\n",
       "  float: right;\n",
       "  font-size: smaller;\n",
       "  line-height: 1em;\n",
       "  font-family: monospace;\n",
       "  background-color: var(--sklearn-color-background);\n",
       "  border-radius: 1em;\n",
       "  height: 1em;\n",
       "  width: 1em;\n",
       "  text-decoration: none !important;\n",
       "  margin-left: 1ex;\n",
       "  /* unfitted */\n",
       "  border: var(--sklearn-color-unfitted-level-1) 1pt solid;\n",
       "  color: var(--sklearn-color-unfitted-level-1);\n",
       "}\n",
       "\n",
       ".sk-estimator-doc-link.fitted,\n",
       "a:link.sk-estimator-doc-link.fitted,\n",
       "a:visited.sk-estimator-doc-link.fitted {\n",
       "  /* fitted */\n",
       "  border: var(--sklearn-color-fitted-level-1) 1pt solid;\n",
       "  color: var(--sklearn-color-fitted-level-1);\n",
       "}\n",
       "\n",
       "/* On hover */\n",
       "div.sk-estimator:hover .sk-estimator-doc-link:hover,\n",
       ".sk-estimator-doc-link:hover,\n",
       "div.sk-label-container:hover .sk-estimator-doc-link:hover,\n",
       ".sk-estimator-doc-link:hover {\n",
       "  /* unfitted */\n",
       "  background-color: var(--sklearn-color-unfitted-level-3);\n",
       "  color: var(--sklearn-color-background);\n",
       "  text-decoration: none;\n",
       "}\n",
       "\n",
       "div.sk-estimator.fitted:hover .sk-estimator-doc-link.fitted:hover,\n",
       ".sk-estimator-doc-link.fitted:hover,\n",
       "div.sk-label-container:hover .sk-estimator-doc-link.fitted:hover,\n",
       ".sk-estimator-doc-link.fitted:hover {\n",
       "  /* fitted */\n",
       "  background-color: var(--sklearn-color-fitted-level-3);\n",
       "  color: var(--sklearn-color-background);\n",
       "  text-decoration: none;\n",
       "}\n",
       "\n",
       "/* Span, style for the box shown on hovering the info icon */\n",
       ".sk-estimator-doc-link span {\n",
       "  display: none;\n",
       "  z-index: 9999;\n",
       "  position: relative;\n",
       "  font-weight: normal;\n",
       "  right: .2ex;\n",
       "  padding: .5ex;\n",
       "  margin: .5ex;\n",
       "  width: min-content;\n",
       "  min-width: 20ex;\n",
       "  max-width: 50ex;\n",
       "  color: var(--sklearn-color-text);\n",
       "  box-shadow: 2pt 2pt 4pt #999;\n",
       "  /* unfitted */\n",
       "  background: var(--sklearn-color-unfitted-level-0);\n",
       "  border: .5pt solid var(--sklearn-color-unfitted-level-3);\n",
       "}\n",
       "\n",
       ".sk-estimator-doc-link.fitted span {\n",
       "  /* fitted */\n",
       "  background: var(--sklearn-color-fitted-level-0);\n",
       "  border: var(--sklearn-color-fitted-level-3);\n",
       "}\n",
       "\n",
       ".sk-estimator-doc-link:hover span {\n",
       "  display: block;\n",
       "}\n",
       "\n",
       "/* \"?\"-specific style due to the `<a>` HTML tag */\n",
       "\n",
       "#sk-container-id-1 a.estimator_doc_link {\n",
       "  float: right;\n",
       "  font-size: 1rem;\n",
       "  line-height: 1em;\n",
       "  font-family: monospace;\n",
       "  background-color: var(--sklearn-color-background);\n",
       "  border-radius: 1rem;\n",
       "  height: 1rem;\n",
       "  width: 1rem;\n",
       "  text-decoration: none;\n",
       "  /* unfitted */\n",
       "  color: var(--sklearn-color-unfitted-level-1);\n",
       "  border: var(--sklearn-color-unfitted-level-1) 1pt solid;\n",
       "}\n",
       "\n",
       "#sk-container-id-1 a.estimator_doc_link.fitted {\n",
       "  /* fitted */\n",
       "  border: var(--sklearn-color-fitted-level-1) 1pt solid;\n",
       "  color: var(--sklearn-color-fitted-level-1);\n",
       "}\n",
       "\n",
       "/* On hover */\n",
       "#sk-container-id-1 a.estimator_doc_link:hover {\n",
       "  /* unfitted */\n",
       "  background-color: var(--sklearn-color-unfitted-level-3);\n",
       "  color: var(--sklearn-color-background);\n",
       "  text-decoration: none;\n",
       "}\n",
       "\n",
       "#sk-container-id-1 a.estimator_doc_link.fitted:hover {\n",
       "  /* fitted */\n",
       "  background-color: var(--sklearn-color-fitted-level-3);\n",
       "}\n",
       "</style><div id=\"sk-container-id-1\" class=\"sk-top-container\"><div class=\"sk-text-repr-fallback\"><pre>LinearRegression()</pre><b>In a Jupyter environment, please rerun this cell to show the HTML representation or trust the notebook. <br />On GitHub, the HTML representation is unable to render, please try loading this page with nbviewer.org.</b></div><div class=\"sk-container\" hidden><div class=\"sk-item\"><div class=\"sk-estimator fitted sk-toggleable\"><input class=\"sk-toggleable__control sk-hidden--visually\" id=\"sk-estimator-id-1\" type=\"checkbox\" checked><label for=\"sk-estimator-id-1\" class=\"sk-toggleable__label fitted sk-toggleable__label-arrow fitted\">&nbsp;&nbsp;LinearRegression<a class=\"sk-estimator-doc-link fitted\" rel=\"noreferrer\" target=\"_blank\" href=\"https://scikit-learn.org/1.5/modules/generated/sklearn.linear_model.LinearRegression.html\">?<span>Documentation for LinearRegression</span></a><span class=\"sk-estimator-doc-link fitted\">i<span>Fitted</span></span></label><div class=\"sk-toggleable__content fitted\"><pre>LinearRegression()</pre></div> </div></div></div></div>"
      ],
      "text/plain": [
       "LinearRegression()"
      ]
     },
     "execution_count": 58,
     "metadata": {},
     "output_type": "execute_result"
    }
   ],
   "source": [
    "# Split data and fit the model\n",
    "X_train, X_test, y_train, y_test = train_test_split(X, y, test_size=0.2, random_state=42)\n",
    "model = LinearRegression()\n",
    "model.fit(X_train, y_train)"
   ]
  },
  {
   "cell_type": "code",
   "execution_count": 59,
   "id": "c9268f0c-0cf2-423c-bdfa-9bc95f9b7117",
   "metadata": {},
   "outputs": [
    {
     "name": "stdout",
     "output_type": "stream",
     "text": [
      "                          Feature  Coefficient\n",
      "5       Education_education_Basic     7.733934\n",
      "6  Education_education_Graduation     6.095827\n",
      "4    Education_education_2n Cycle     5.960811\n",
      "3              AcceptedCmpOverall     3.068164\n",
      "0                          Income     0.000953\n",
      "1                             Age    -0.037592\n",
      "7      Education_education_Master    -3.560320\n",
      "2                   TotalChildren    -7.316070\n",
      "8         Education_education_PhD   -16.230252\n"
     ]
    }
   ],
   "source": [
    "# Check coefficients\n",
    "coef_df = pd.DataFrame({'Feature': features, 'Coefficient': model.coef_})\n",
    "print(coef_df.sort_values(by='Coefficient', ascending=False))"
   ]
  },
  {
   "cell_type": "markdown",
   "id": "63eddffc-0261-46c2-b874-3f50267d2cbf",
   "metadata": {},
   "source": [
    "### Factors Influencing High Spending on Premium Products (MntGoldProds)\n",
    "#### Top Factors (Linear Regression Coefficients)"
   ]
  },
  {
   "cell_type": "markdown",
   "id": "29df61fb-55e8-4859-b751-089b90515f7c",
   "metadata": {},
   "source": [
    "Income: 7.73 (strongest positive influence)\n",
    "\n",
    "Education_Basic: 6.09\n",
    "\n",
    "Education_Graduation: 5.96\n",
    "\n",
    "Education_2n Cycle: 3.66\n",
    "\n",
    "AcceptedCmpOverall: 0.06\n",
    "\n",
    "Age: -0.03 (negligible negative)\n",
    "\n",
    "Education_Master: -3.56\n",
    "\n",
    "TotalChildren: -7.31\n",
    "\n",
    "Education_PhD: -16.23 (strongest negative influence)"
   ]
  },
  {
   "cell_type": "markdown",
   "id": "eda96eaf-39ea-4251-bdb6-5f296ac3dd90",
   "metadata": {},
   "source": [
    "### Insights "
   ]
  },
  {
   "cell_type": "code",
   "execution_count": null,
   "id": "3ec7bd9d-c7ed-4c74-97fd-ee92c4247860",
   "metadata": {},
   "outputs": [],
   "source": [
    "Higher income strongly drives spending on premium products (MntGoldProds).\n",
    "\n",
    "Lower education levels (Basic, Graduation, 2n Cycle) are associated with higher spending on premium products, while PhD holders spend the least.\n",
    "    \n",
    "Accepting campaigns (AcceptedCmpOverall) has a small positive effect.\n",
    "\n",
    "Having more children and higher education (Master’s, PhD) negatively impacts spending on premium products."
   ]
  },
  {
   "cell_type": "markdown",
   "id": "8ba1bcd1-af6c-46b0-87a5-0f81da7042b6",
   "metadata": {},
   "source": [
    "### Recommendations"
   ]
  },
  {
   "cell_type": "code",
   "execution_count": null,
   "id": "9499c320-033a-4ffd-b9d8-c3c67dd4f189",
   "metadata": {},
   "outputs": [],
   "source": [
    "Target high-income customers with lower education levels (Basic, Graduation, 2n Cycle) for premium product campaigns.\n",
    "                                                          \n",
    "Focus on customers with no or few children to maximize premium product sales.\n",
    "    \n",
    "Avoid targeting PhD holders for premium products, as they show the least interest.\n",
    "    \n",
    "Use Catalog campaigns (0.57 acceptance rate) to engage high-income, campaign-responsive customers (e.g., 20-30 singles, 40-60 singles with lower \n",
    "education)."
   ]
  }
 ],
 "metadata": {
  "kernelspec": {
   "display_name": "Python 3 (ipykernel)",
   "language": "python",
   "name": "python3"
  },
  "language_info": {
   "codemirror_mode": {
    "name": "ipython",
    "version": 3
   },
   "file_extension": ".py",
   "mimetype": "text/x-python",
   "name": "python",
   "nbconvert_exporter": "python",
   "pygments_lexer": "ipython3",
   "version": "3.12.7"
  }
 },
 "nbformat": 4,
 "nbformat_minor": 5
}
